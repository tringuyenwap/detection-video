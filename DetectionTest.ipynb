{
  "nbformat": 4,
  "nbformat_minor": 0,
  "metadata": {
    "colab": {
      "provenance": [],
      "authorship_tag": "ABX9TyNna90Cxtx5BB3PmNA5FWHX",
      "include_colab_link": true
    },
    "kernelspec": {
      "name": "python3",
      "display_name": "Python 3"
    },
    "language_info": {
      "name": "python"
    }
  },
  "cells": [
    {
      "cell_type": "markdown",
      "metadata": {
        "id": "view-in-github",
        "colab_type": "text"
      },
      "source": [
        "<a href=\"https://colab.research.google.com/github/tringuyenwap/detection-video/blob/testdata/DetectionTest.ipynb\" target=\"_parent\"><img src=\"https://colab.research.google.com/assets/colab-badge.svg\" alt=\"Open In Colab\"/></a>"
      ]
    },
    {
      "cell_type": "code",
      "execution_count": null,
      "metadata": {
        "id": "nrFdZDrkbwUQ",
        "colab": {
          "base_uri": "https://localhost:8080/"
        },
        "outputId": "ca5ae0e3-91bf-4a0f-838f-390d7f5ea34f"
      },
      "outputs": [
        {
          "output_type": "stream",
          "name": "stdout",
          "text": [
            "Cloning into 'detection-video'...\n",
            "remote: Enumerating objects: 108, done.\u001b[K\n",
            "remote: Counting objects: 100% (108/108), done.\u001b[K\n",
            "remote: Compressing objects: 100% (80/80), done.\u001b[K\n",
            "remote: Total 108 (delta 22), reused 105 (delta 22), pack-reused 0\u001b[K\n",
            "Receiving objects: 100% (108/108), 225.89 KiB | 3.37 MiB/s, done.\n",
            "Resolving deltas: 100% (22/22), done.\n"
          ]
        }
      ],
      "source": [
        "!git clone https://github.com/tringuyenwap/detection-video"
      ]
    },
    {
      "cell_type": "code",
      "source": [
        "%cd /content/detection-video"
      ],
      "metadata": {
        "colab": {
          "base_uri": "https://localhost:8080/"
        },
        "id": "KgZCgVVGcjzF",
        "outputId": "f955bfef-dc62-45c3-f757-6f8e7f03e7e9"
      },
      "execution_count": null,
      "outputs": [
        {
          "output_type": "stream",
          "name": "stdout",
          "text": [
            "/content/detection-video\n"
          ]
        }
      ]
    },
    {
      "cell_type": "code",
      "source": [
        "!wget http://101.32.75.151:8181/dataset/ShanghaiTech/training.zip"
      ],
      "metadata": {
        "colab": {
          "base_uri": "https://localhost:8080/"
        },
        "id": "9twZIm3AdFv8",
        "outputId": "2c197234-3fa2-4a8a-c7e1-f5e313e9d1d3"
      },
      "execution_count": null,
      "outputs": [
        {
          "output_type": "stream",
          "name": "stdout",
          "text": [
            "--2023-06-09 13:59:35--  http://101.32.75.151:8181/dataset/ShanghaiTech/training.zip\n",
            "Connecting to 101.32.75.151:8181... connected.\n",
            "HTTP request sent, awaiting response... 302 Found\n",
            "Location: https://public.bn.files.1drv.com/y4m6A-_s5ZOo53nC6Rvec_y7CVQ4GlbqSZ4SgXHakne3YYmaBfq6uC9YD3XN1pTkxEWkeQM4LT0Bv3MKW03pQXumfeDHq7qnmfLJ6BtooTBEA5kVtW-UyOHMwZG3s8LODoBH46Ihq6GfWvx-IGNmf3XJNp0tAJdFdWsSCHKZf3sYAPksu0dMDeQG2wnb3Xoeps9xvRErE1A4ghQAxINDkpa-p_Bkj2WqlR80_hSapt-EV4SSeRvdClCWGz6TmXS1iZz [following]\n",
            "--2023-06-09 13:59:35--  https://public.bn.files.1drv.com/y4m6A-_s5ZOo53nC6Rvec_y7CVQ4GlbqSZ4SgXHakne3YYmaBfq6uC9YD3XN1pTkxEWkeQM4LT0Bv3MKW03pQXumfeDHq7qnmfLJ6BtooTBEA5kVtW-UyOHMwZG3s8LODoBH46Ihq6GfWvx-IGNmf3XJNp0tAJdFdWsSCHKZf3sYAPksu0dMDeQG2wnb3Xoeps9xvRErE1A4ghQAxINDkpa-p_Bkj2WqlR80_hSapt-EV4SSeRvdClCWGz6TmXS1iZz\n",
            "Resolving public.bn.files.1drv.com (public.bn.files.1drv.com)... 13.107.43.12\n",
            "Connecting to public.bn.files.1drv.com (public.bn.files.1drv.com)|13.107.43.12|:443... connected.\n",
            "HTTP request sent, awaiting response... 200 OK\n",
            "Length: 2466248887 (2.3G) [application/zip]\n",
            "Saving to: ‘training.zip’\n",
            "\n",
            "training.zip        100%[===================>]   2.30G  40.2MB/s    in 87s     \n",
            "\n",
            "2023-06-09 14:01:03 (26.9 MB/s) - ‘training.zip’ saved [2466248887/2466248887]\n",
            "\n"
          ]
        }
      ]
    },
    {
      "cell_type": "code",
      "source": [
        "!unzip /content/detection-video/training.zip"
      ],
      "metadata": {
        "colab": {
          "base_uri": "https://localhost:8080/"
        },
        "id": "2Wr54VMFdk9H",
        "outputId": "69df0f6f-89ca-4b0b-c4b3-96c27c3c6916"
      },
      "execution_count": null,
      "outputs": [
        {
          "output_type": "stream",
          "name": "stdout",
          "text": [
            "Archive:  /content/detection-video/training.zip\n",
            "   creating: training/\n",
            "   creating: training/videos/\n",
            "  inflating: training/videos/01_001.avi  \n",
            "  inflating: training/videos/01_002.avi  \n",
            "  inflating: training/videos/01_003.avi  \n",
            "  inflating: training/videos/01_004.avi  \n",
            "  inflating: training/videos/01_005.avi  \n",
            "  inflating: training/videos/01_006.avi  \n",
            "  inflating: training/videos/01_007.avi  \n",
            "  inflating: training/videos/01_008.avi  \n",
            "  inflating: training/videos/01_009.avi  \n",
            "  inflating: training/videos/01_010.avi  \n",
            "  inflating: training/videos/01_011.avi  \n",
            "  inflating: training/videos/01_012.avi  \n",
            "  inflating: training/videos/01_013.avi  \n",
            "  inflating: training/videos/01_014.avi  \n",
            "  inflating: training/videos/01_015.avi  \n",
            "  inflating: training/videos/01_016.avi  \n",
            "  inflating: training/videos/01_017.avi  \n",
            "  inflating: training/videos/01_018.avi  \n",
            "  inflating: training/videos/01_019.avi  \n",
            "  inflating: training/videos/01_020.avi  \n",
            "  inflating: training/videos/01_021.avi  \n",
            "  inflating: training/videos/01_022.avi  \n",
            "  inflating: training/videos/01_023.avi  \n",
            "  inflating: training/videos/01_024.avi  \n",
            "  inflating: training/videos/01_025.avi  \n",
            "  inflating: training/videos/01_026.avi  \n",
            "  inflating: training/videos/01_027.avi  \n",
            "  inflating: training/videos/01_028.avi  \n",
            "  inflating: training/videos/01_029.avi  \n",
            "  inflating: training/videos/01_030.avi  \n",
            "  inflating: training/videos/01_031.avi  \n",
            "  inflating: training/videos/01_032.avi  \n",
            "  inflating: training/videos/01_033.avi  \n",
            "  inflating: training/videos/01_034.avi  \n",
            "  inflating: training/videos/01_035.avi  \n",
            "  inflating: training/videos/01_036.avi  \n",
            "  inflating: training/videos/01_037.avi  \n",
            "  inflating: training/videos/01_038.avi  \n",
            "  inflating: training/videos/01_039.avi  \n",
            "  inflating: training/videos/01_040.avi  \n",
            "  inflating: training/videos/01_041.avi  \n",
            "  inflating: training/videos/01_042.avi  \n",
            "  inflating: training/videos/01_043.avi  \n",
            "  inflating: training/videos/01_044.avi  \n",
            "  inflating: training/videos/01_045.avi  \n",
            "  inflating: training/videos/01_046.avi  \n",
            "  inflating: training/videos/01_047.avi  \n",
            "  inflating: training/videos/01_048.avi  \n",
            "  inflating: training/videos/01_049.avi  \n",
            "  inflating: training/videos/01_050.avi  \n",
            "  inflating: training/videos/01_051.avi  \n",
            "  inflating: training/videos/01_052.avi  \n",
            "  inflating: training/videos/01_053.avi  \n",
            "  inflating: training/videos/01_054.avi  \n",
            "  inflating: training/videos/01_055.avi  \n",
            "  inflating: training/videos/01_056.avi  \n",
            "  inflating: training/videos/01_057.avi  \n",
            "  inflating: training/videos/01_058.avi  \n",
            "  inflating: training/videos/01_059.avi  \n",
            "  inflating: training/videos/01_060.avi  \n",
            "  inflating: training/videos/01_061.avi  \n",
            "  inflating: training/videos/01_062.avi  \n",
            "  inflating: training/videos/01_063.avi  \n",
            "  inflating: training/videos/01_064.avi  \n",
            "  inflating: training/videos/01_065.avi  \n",
            "  inflating: training/videos/01_066.avi  \n",
            "  inflating: training/videos/01_067.avi  \n",
            "  inflating: training/videos/01_068.avi  \n",
            "  inflating: training/videos/01_069.avi  \n",
            "  inflating: training/videos/01_070.avi  \n",
            "  inflating: training/videos/01_071.avi  \n",
            "  inflating: training/videos/01_072.avi  \n",
            "  inflating: training/videos/01_073.avi  \n",
            "  inflating: training/videos/01_074.avi  \n",
            "  inflating: training/videos/01_075.avi  \n",
            "  inflating: training/videos/01_076.avi  \n",
            "  inflating: training/videos/01_077.avi  \n",
            "  inflating: training/videos/01_078.avi  \n",
            "  inflating: training/videos/01_079.avi  \n",
            "  inflating: training/videos/01_080.avi  \n",
            "  inflating: training/videos/01_081.avi  \n",
            "  inflating: training/videos/01_082.avi  \n",
            "  inflating: training/videos/01_083.avi  \n",
            "  inflating: training/videos/02_001.avi  \n",
            "  inflating: training/videos/02_002.avi  \n",
            "  inflating: training/videos/02_003.avi  \n",
            "  inflating: training/videos/02_004.avi  \n",
            "  inflating: training/videos/02_005.avi  \n",
            "  inflating: training/videos/02_006.avi  \n",
            "  inflating: training/videos/02_007.avi  \n",
            "  inflating: training/videos/02_008.avi  \n",
            "  inflating: training/videos/02_009.avi  \n",
            "  inflating: training/videos/02_010.avi  \n",
            "  inflating: training/videos/02_011.avi  \n",
            "  inflating: training/videos/02_012.avi  \n",
            "  inflating: training/videos/02_013.avi  \n",
            "  inflating: training/videos/02_014.avi  \n",
            "  inflating: training/videos/02_015.avi  \n",
            "  inflating: training/videos/03_001.avi  \n",
            "  inflating: training/videos/03_002.avi  \n",
            "  inflating: training/videos/03_003.avi  \n",
            "  inflating: training/videos/03_004.avi  \n",
            "  inflating: training/videos/03_005.avi  \n",
            "  inflating: training/videos/03_006.avi  \n",
            "  inflating: training/videos/04_001.avi  \n",
            "  inflating: training/videos/04_002.avi  \n",
            "  inflating: training/videos/04_003.avi  \n",
            "  inflating: training/videos/04_004.avi  \n",
            "  inflating: training/videos/04_005.avi  \n",
            "  inflating: training/videos/04_006.avi  \n",
            "  inflating: training/videos/04_007.avi  \n",
            "  inflating: training/videos/04_008.avi  \n",
            "  inflating: training/videos/04_009.avi  \n",
            "  inflating: training/videos/04_010.avi  \n",
            "  inflating: training/videos/04_011.avi  \n",
            "  inflating: training/videos/04_012.avi  \n",
            "  inflating: training/videos/04_013.avi  \n",
            "  inflating: training/videos/04_014.avi  \n",
            "  inflating: training/videos/04_015.avi  \n",
            "  inflating: training/videos/04_016.avi  \n",
            "  inflating: training/videos/04_017.avi  \n",
            "  inflating: training/videos/04_018.avi  \n",
            "  inflating: training/videos/04_019.avi  \n",
            "  inflating: training/videos/04_020.avi  \n",
            "  inflating: training/videos/05_001.avi  \n",
            "  inflating: training/videos/05_002.avi  \n",
            "  inflating: training/videos/05_003.avi  \n",
            "  inflating: training/videos/05_004.avi  \n",
            "  inflating: training/videos/05_005.avi  \n",
            "  inflating: training/videos/05_006.avi  \n",
            "  inflating: training/videos/05_007.avi  \n",
            "  inflating: training/videos/05_008.avi  \n",
            "  inflating: training/videos/05_009.avi  \n",
            "  inflating: training/videos/05_010.avi  \n",
            "  inflating: training/videos/05_011.avi  \n",
            "  inflating: training/videos/05_012.avi  \n",
            "  inflating: training/videos/05_013.avi  \n",
            "  inflating: training/videos/05_014.avi  \n",
            "  inflating: training/videos/05_015.avi  \n",
            "  inflating: training/videos/05_016.avi  \n",
            "  inflating: training/videos/05_017.avi  \n",
            "  inflating: training/videos/05_018.avi  \n",
            "  inflating: training/videos/05_019.avi  \n",
            "  inflating: training/videos/05_020.avi  \n",
            "  inflating: training/videos/05_021.avi  \n",
            "  inflating: training/videos/05_022.avi  \n",
            "  inflating: training/videos/05_023.avi  \n",
            "  inflating: training/videos/05_024.avi  \n",
            "  inflating: training/videos/05_025.avi  \n",
            "  inflating: training/videos/05_026.avi  \n",
            "  inflating: training/videos/05_027.avi  \n",
            "  inflating: training/videos/05_028.avi  \n",
            "  inflating: training/videos/05_029.avi  \n",
            "  inflating: training/videos/05_030.avi  \n",
            "  inflating: training/videos/05_031.avi  \n",
            "  inflating: training/videos/05_032.avi  \n",
            "  inflating: training/videos/05_033.avi  \n",
            "  inflating: training/videos/05_034.avi  \n",
            "  inflating: training/videos/05_035.avi  \n",
            "  inflating: training/videos/05_036.avi  \n",
            "  inflating: training/videos/05_037.avi  \n",
            "  inflating: training/videos/05_038.avi  \n",
            "  inflating: training/videos/05_039.avi  \n",
            "  inflating: training/videos/05_040.avi  \n",
            "  inflating: training/videos/05_041.avi  \n",
            "  inflating: training/videos/05_042.avi  \n",
            "  inflating: training/videos/05_043.avi  \n",
            "  inflating: training/videos/05_044.avi  \n",
            "  inflating: training/videos/05_045.avi  \n",
            "  inflating: training/videos/05_046.avi  \n",
            "  inflating: training/videos/05_047.avi  \n",
            "  inflating: training/videos/05_048.avi  \n",
            "  inflating: training/videos/05_049.avi  \n",
            "  inflating: training/videos/05_050.avi  \n",
            "  inflating: training/videos/05_051.avi  \n",
            "  inflating: training/videos/05_052.avi  \n",
            "  inflating: training/videos/05_053.avi  \n",
            "  inflating: training/videos/05_054.avi  \n",
            "  inflating: training/videos/05_055.avi  \n",
            "  inflating: training/videos/05_056.avi  \n",
            "  inflating: training/videos/05_057.avi  \n",
            "  inflating: training/videos/05_058.avi  \n",
            "  inflating: training/videos/05_059.avi  \n",
            "  inflating: training/videos/05_060.avi  \n",
            "  inflating: training/videos/05_061.avi  \n",
            "  inflating: training/videos/05_062.avi  \n",
            "  inflating: training/videos/05_063.avi  \n",
            "  inflating: training/videos/05_064.avi  \n",
            "  inflating: training/videos/05_065.avi  \n",
            "  inflating: training/videos/05_066.avi  \n",
            "  inflating: training/videos/06_001.avi  \n",
            "  inflating: training/videos/06_002.avi  \n",
            "  inflating: training/videos/06_003.avi  \n",
            "  inflating: training/videos/06_004.avi  \n",
            "  inflating: training/videos/06_005.avi  \n",
            "  inflating: training/videos/06_006.avi  \n",
            "  inflating: training/videos/06_007.avi  \n",
            "  inflating: training/videos/06_008.avi  \n",
            "  inflating: training/videos/06_009.avi  \n",
            "  inflating: training/videos/06_010.avi  \n",
            "  inflating: training/videos/06_011.avi  \n",
            "  inflating: training/videos/06_012.avi  \n",
            "  inflating: training/videos/06_013.avi  \n",
            "  inflating: training/videos/06_014.avi  \n",
            "  inflating: training/videos/06_015.avi  \n",
            "  inflating: training/videos/06_016.avi  \n",
            "  inflating: training/videos/06_017.avi  \n",
            "  inflating: training/videos/06_018.avi  \n",
            "  inflating: training/videos/06_019.avi  \n",
            "  inflating: training/videos/06_020.avi  \n",
            "  inflating: training/videos/06_021.avi  \n",
            "  inflating: training/videos/06_022.avi  \n",
            "  inflating: training/videos/06_023.avi  \n",
            "  inflating: training/videos/06_024.avi  \n",
            "  inflating: training/videos/06_025.avi  \n",
            "  inflating: training/videos/06_026.avi  \n",
            "  inflating: training/videos/06_027.avi  \n",
            "  inflating: training/videos/06_028.avi  \n",
            "  inflating: training/videos/06_029.avi  \n",
            "  inflating: training/videos/06_030.avi  \n",
            "  inflating: training/videos/07_001.avi  \n",
            "  inflating: training/videos/07_002.avi  \n",
            "  inflating: training/videos/07_003.avi  \n",
            "  inflating: training/videos/07_004.avi  \n",
            "  inflating: training/videos/07_005.avi  \n",
            "  inflating: training/videos/07_006.avi  \n",
            "  inflating: training/videos/07_007.avi  \n",
            "  inflating: training/videos/07_008.avi  \n",
            "  inflating: training/videos/08_001.avi  \n",
            "  inflating: training/videos/08_002.avi  \n",
            "  inflating: training/videos/08_003.avi  \n",
            "  inflating: training/videos/08_004.avi  \n",
            "  inflating: training/videos/08_005.avi  \n",
            "  inflating: training/videos/08_006.avi  \n",
            "  inflating: training/videos/08_007.avi  \n",
            "  inflating: training/videos/08_008.avi  \n",
            "  inflating: training/videos/08_009.avi  \n",
            "  inflating: training/videos/08_010.avi  \n",
            "  inflating: training/videos/08_011.avi  \n",
            "  inflating: training/videos/08_012.avi  \n",
            "  inflating: training/videos/08_013.avi  \n",
            "  inflating: training/videos/08_014.avi  \n",
            "  inflating: training/videos/08_015.avi  \n",
            "  inflating: training/videos/08_016.avi  \n",
            "  inflating: training/videos/08_017.avi  \n",
            "  inflating: training/videos/08_018.avi  \n",
            "  inflating: training/videos/08_019.avi  \n",
            "  inflating: training/videos/08_020.avi  \n",
            "  inflating: training/videos/08_021.avi  \n",
            "  inflating: training/videos/08_022.avi  \n",
            "  inflating: training/videos/08_023.avi  \n",
            "  inflating: training/videos/08_024.avi  \n",
            "  inflating: training/videos/08_025.avi  \n",
            "  inflating: training/videos/08_026.avi  \n",
            "  inflating: training/videos/08_027.avi  \n",
            "  inflating: training/videos/08_028.avi  \n",
            "  inflating: training/videos/08_029.avi  \n",
            "  inflating: training/videos/08_030.avi  \n",
            "  inflating: training/videos/08_031.avi  \n",
            "  inflating: training/videos/08_032.avi  \n",
            "  inflating: training/videos/08_033.avi  \n",
            "  inflating: training/videos/08_034.avi  \n",
            "  inflating: training/videos/08_035.avi  \n",
            "  inflating: training/videos/08_036.avi  \n",
            "  inflating: training/videos/08_037.avi  \n",
            "  inflating: training/videos/08_038.avi  \n",
            "  inflating: training/videos/08_039.avi  \n",
            "  inflating: training/videos/08_040.avi  \n",
            "  inflating: training/videos/08_041.avi  \n",
            "  inflating: training/videos/08_042.avi  \n",
            "  inflating: training/videos/08_043.avi  \n",
            "  inflating: training/videos/08_044.avi  \n",
            "  inflating: training/videos/08_045.avi  \n",
            "  inflating: training/videos/08_046.avi  \n",
            "  inflating: training/videos/08_047.avi  \n",
            "  inflating: training/videos/08_048.avi  \n",
            "  inflating: training/videos/08_049.avi  \n",
            "  inflating: training/videos/09_001.avi  \n",
            "  inflating: training/videos/09_002.avi  \n",
            "  inflating: training/videos/09_003.avi  \n",
            "  inflating: training/videos/09_004.avi  \n",
            "  inflating: training/videos/09_005.avi  \n",
            "  inflating: training/videos/09_006.avi  \n",
            "  inflating: training/videos/09_007.avi  \n",
            "  inflating: training/videos/09_008.avi  \n",
            "  inflating: training/videos/09_009.avi  \n",
            "  inflating: training/videos/09_010.avi  \n",
            "  inflating: training/videos/10_001.avi  \n",
            "  inflating: training/videos/10_002.avi  \n",
            "  inflating: training/videos/10_003.avi  \n",
            "  inflating: training/videos/10_004.avi  \n",
            "  inflating: training/videos/10_005.avi  \n",
            "  inflating: training/videos/10_006.avi  \n",
            "  inflating: training/videos/10_007.avi  \n",
            "  inflating: training/videos/10_008.avi  \n",
            "  inflating: training/videos/10_009.avi  \n",
            "  inflating: training/videos/10_010.avi  \n",
            "  inflating: training/videos/10_011.avi  \n",
            "  inflating: training/videos/11_001.avi  \n",
            "  inflating: training/videos/11_002.avi  \n",
            "  inflating: training/videos/11_003.avi  \n",
            "  inflating: training/videos/11_004.avi  \n",
            "  inflating: training/videos/11_005.avi  \n",
            "  inflating: training/videos/11_006.avi  \n",
            "  inflating: training/videos/11_007.avi  \n",
            "  inflating: training/videos/11_008.avi  \n",
            "  inflating: training/videos/11_009.avi  \n",
            "  inflating: training/videos/11_010.avi  \n",
            "  inflating: training/videos/12_001.avi  \n",
            "  inflating: training/videos/12_002.avi  \n",
            "  inflating: training/videos/12_003.avi  \n",
            "  inflating: training/videos/12_004.avi  \n",
            "  inflating: training/videos/12_005.avi  \n",
            "  inflating: training/videos/12_006.avi  \n",
            "  inflating: training/videos/12_007.avi  \n",
            "  inflating: training/videos/12_008.avi  \n",
            "  inflating: training/videos/12_009.avi  \n",
            "  inflating: training/videos/12_010.avi  \n",
            "  inflating: training/videos/12_011.avi  \n",
            "  inflating: training/videos/12_012.avi  \n",
            "  inflating: training/videos/12_013.avi  \n",
            "  inflating: training/videos/12_014.avi  \n",
            "  inflating: training/videos/12_015.avi  \n",
            "  inflating: training/videos/13_001.avi  \n",
            "  inflating: training/videos/13_002.avi  \n",
            "  inflating: training/videos/13_003.avi  \n",
            "  inflating: training/videos/13_004.avi  \n",
            "  inflating: training/videos/13_005.avi  \n",
            "  inflating: training/videos/13_006.avi  \n",
            "  inflating: training/videos/13_007.avi  \n"
          ]
        }
      ]
    },
    {
      "cell_type": "code",
      "source": [
        "!python /content/detection-video/obj_det/mask_rcnn.py"
      ],
      "metadata": {
        "colab": {
          "base_uri": "https://localhost:8080/"
        },
        "id": "Hl5xKr8ie0Kv",
        "outputId": "9bfbe9f2-9187-4116-ac23-114737ce707a"
      },
      "execution_count": null,
      "outputs": [
        {
          "output_type": "stream",
          "name": "stdout",
          "text": [
            "Traceback (most recent call last):\n",
            "  File \"/content/detection-video/obj_det/mask_rcnn.py\", line 8, in <module>\n",
            "    from utils import read_graph_and_init_session\n",
            "ModuleNotFoundError: No module named 'utils'\n"
          ]
        }
      ]
    },
    {
      "cell_type": "code",
      "source": [
        "%cd /content/detection-video"
      ],
      "metadata": {
        "colab": {
          "base_uri": "https://localhost:8080/"
        },
        "id": "Z1ZU5BKTebct",
        "outputId": "0004dbcb-49a8-4061-9e41-ecfcec6bb984"
      },
      "execution_count": 31,
      "outputs": [
        {
          "output_type": "stream",
          "name": "stdout",
          "text": [
            "/content/detection-video\n"
          ]
        }
      ]
    },
    {
      "cell_type": "code",
      "source": [
        "!git config --global user.name \"tringuyenwap\"\n",
        "!git config --global user.email \"nguyentri908908@gmail.com\"\n",
        "\n",
        "!git config --global user.password \"980980980kute\""
      ],
      "metadata": {
        "id": "nQ5cqw28f1LD"
      },
      "execution_count": 27,
      "outputs": []
    },
    {
      "cell_type": "code",
      "source": [
        "!git add -A\n"
      ],
      "metadata": {
        "id": "nO6T3eWee_nO"
      },
      "execution_count": 32,
      "outputs": []
    },
    {
      "cell_type": "code",
      "source": [
        "!git commit -m \"add data\""
      ],
      "metadata": {
        "colab": {
          "base_uri": "https://localhost:8080/"
        },
        "id": "cjKi7yQjg0Cz",
        "outputId": "5f3378a0-7061-4c93-b5d7-9691ebad4d84"
      },
      "execution_count": 33,
      "outputs": [
        {
          "output_type": "stream",
          "name": "stdout",
          "text": [
            "On branch main\n",
            "Your branch is ahead of 'origin/main' by 1 commit.\n",
            "  (use \"git push\" to publish your local commits)\n",
            "\n",
            "nothing to commit, working tree clean\n"
          ]
        }
      ]
    },
    {
      "cell_type": "code",
      "source": [
        "!git push "
      ],
      "metadata": {
        "colab": {
          "base_uri": "https://localhost:8080/"
        },
        "id": "2RIR-PZihZP-",
        "outputId": "a84feb71-0b53-4e3c-acaf-d76225cb4b7f"
      },
      "execution_count": 34,
      "outputs": [
        {
          "output_type": "stream",
          "name": "stdout",
          "text": [
            "fatal: could not read Username for 'https://github.com': No such device or address\n"
          ]
        }
      ]
    }
  ]
}