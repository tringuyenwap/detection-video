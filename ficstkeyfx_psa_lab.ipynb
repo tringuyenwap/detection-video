{
  "nbformat": 4,
  "nbformat_minor": 0,
  "metadata": {
    "colab": {
      "provenance": [],
      "collapsed_sections": [
        "ydk716C1VajX",
        "aFI6g1rQVQ-w",
        "ER3T04rTVU8f",
        "TQWwDYWXVhDh"
      ]
    },
    "kernelspec": {
      "name": "python3",
      "display_name": "Python 3"
    },
    "language_info": {
      "name": "python"
    }
  },
  "cells": [
    {
      "cell_type": "code",
      "execution_count": 1,
      "metadata": {
        "colab": {
          "base_uri": "https://localhost:8080/"
        },
        "id": "gFmCeA_yEnYY",
        "outputId": "37271930-c6cc-4efa-dc58-cffb1c917f0b"
      },
      "outputs": [
        {
          "output_type": "stream",
          "name": "stdout",
          "text": [
            "Cloning into 'detection-video'...\n",
            "remote: Enumerating objects: 140, done.\u001b[K\n",
            "remote: Counting objects: 100% (140/140), done.\u001b[K\n",
            "remote: Compressing objects: 100% (106/106), done.\u001b[K\n",
            "remote: Total 140 (delta 37), reused 124 (delta 28), pack-reused 0\u001b[K\n",
            "Receiving objects: 100% (140/140), 243.60 KiB | 1.31 MiB/s, done.\n",
            "Resolving deltas: 100% (37/37), done.\n"
          ]
        }
      ],
      "source": [
        "!git clone https://github.com/tringuyenwap/detection-video -b ficstkeyfx"
      ]
    },
    {
      "cell_type": "markdown",
      "source": [
        "## Tải dữ liệu"
      ],
      "metadata": {
        "id": "ydk716C1VajX"
      }
    },
    {
      "cell_type": "code",
      "source": [
        "%cd detection-video"
      ],
      "metadata": {
        "colab": {
          "base_uri": "https://localhost:8080/"
        },
        "id": "0UNpMMwCGGJJ",
        "outputId": "64fd6404-dd68-41c7-fa5c-595d449bdb44"
      },
      "execution_count": 2,
      "outputs": [
        {
          "output_type": "stream",
          "name": "stdout",
          "text": [
            "/content/detection-video\n"
          ]
        }
      ]
    },
    {
      "cell_type": "code",
      "source": [
        "!wget http://101.32.75.151:8181/dataset/ShanghaiTech/training.zip"
      ],
      "metadata": {
        "colab": {
          "base_uri": "https://localhost:8080/"
        },
        "id": "d8ET_jU1GH4L",
        "outputId": "a1ebaef6-6f49-4ead-a9c1-a5791802fb12"
      },
      "execution_count": 3,
      "outputs": [
        {
          "output_type": "stream",
          "name": "stdout",
          "text": [
            "--2023-06-10 07:37:26--  http://101.32.75.151:8181/dataset/ShanghaiTech/training.zip\n",
            "Connecting to 101.32.75.151:8181... connected.\n",
            "HTTP request sent, awaiting response... 302 Found\n",
            "Location: https://public.bn.files.1drv.com/y4mDBGNrVq4uRRk0ZqiYbMS-g57C9loa2SJxB3kSeQ0Yt5FZwPFn1gU92O0eppQk0tI8Pt0ytGuHns04omLsfkzkSpeIrmgwwTECcp-XRWSCJ6eGkHzYhovDFCVxSxoQEoXn_l6wMAg4H-ZN0aimcGoLdpQqkZhkS6E2kvpEZIrqzvWmsaDx3X0SBD3Z63Q9jjFKOLrND60t1hMSsp5rl0cFcRdkIcf2l47yYeqRZBzRf3wG1r54CWAnj0mRxTvQRdf [following]\n",
            "--2023-06-10 07:37:26--  https://public.bn.files.1drv.com/y4mDBGNrVq4uRRk0ZqiYbMS-g57C9loa2SJxB3kSeQ0Yt5FZwPFn1gU92O0eppQk0tI8Pt0ytGuHns04omLsfkzkSpeIrmgwwTECcp-XRWSCJ6eGkHzYhovDFCVxSxoQEoXn_l6wMAg4H-ZN0aimcGoLdpQqkZhkS6E2kvpEZIrqzvWmsaDx3X0SBD3Z63Q9jjFKOLrND60t1hMSsp5rl0cFcRdkIcf2l47yYeqRZBzRf3wG1r54CWAnj0mRxTvQRdf\n",
            "Resolving public.bn.files.1drv.com (public.bn.files.1drv.com)... 13.107.42.12\n",
            "Connecting to public.bn.files.1drv.com (public.bn.files.1drv.com)|13.107.42.12|:443... connected.\n",
            "HTTP request sent, awaiting response... 200 OK\n",
            "Length: 2466248887 (2.3G) [application/zip]\n",
            "Saving to: ‘training.zip’\n",
            "\n",
            "training.zip        100%[===================>]   2.30G  40.0MB/s    in 60s     \n",
            "\n",
            "2023-06-10 07:38:28 (38.9 MB/s) - ‘training.zip’ saved [2466248887/2466248887]\n",
            "\n"
          ]
        }
      ]
    },
    {
      "cell_type": "code",
      "source": [
        "!unzip /content/detection-video/training.zip"
      ],
      "metadata": {
        "colab": {
          "base_uri": "https://localhost:8080/"
        },
        "id": "k8DPTi7vGJL0",
        "outputId": "138602c9-fefe-4a3f-bc08-a2d84acef300"
      },
      "execution_count": 4,
      "outputs": [
        {
          "output_type": "stream",
          "name": "stdout",
          "text": [
            "Archive:  /content/detection-video/training.zip\n",
            "   creating: training/\n",
            "   creating: training/videos/\n",
            "  inflating: training/videos/01_001.avi  \n",
            "  inflating: training/videos/01_002.avi  \n",
            "  inflating: training/videos/01_003.avi  \n",
            "  inflating: training/videos/01_004.avi  \n",
            "  inflating: training/videos/01_005.avi  \n",
            "  inflating: training/videos/01_006.avi  \n",
            "  inflating: training/videos/01_007.avi  \n",
            "  inflating: training/videos/01_008.avi  \n",
            "  inflating: training/videos/01_009.avi  \n",
            "  inflating: training/videos/01_010.avi  \n",
            "  inflating: training/videos/01_011.avi  \n",
            "  inflating: training/videos/01_012.avi  \n",
            "  inflating: training/videos/01_013.avi  \n",
            "  inflating: training/videos/01_014.avi  \n",
            "  inflating: training/videos/01_015.avi  \n",
            "  inflating: training/videos/01_016.avi  \n",
            "  inflating: training/videos/01_017.avi  \n",
            "  inflating: training/videos/01_018.avi  \n",
            "  inflating: training/videos/01_019.avi  \n",
            "  inflating: training/videos/01_020.avi  \n",
            "  inflating: training/videos/01_021.avi  \n",
            "  inflating: training/videos/01_022.avi  \n",
            "  inflating: training/videos/01_023.avi  \n",
            "  inflating: training/videos/01_024.avi  \n",
            "  inflating: training/videos/01_025.avi  \n",
            "  inflating: training/videos/01_026.avi  \n",
            "  inflating: training/videos/01_027.avi  \n",
            "  inflating: training/videos/01_028.avi  \n",
            "  inflating: training/videos/01_029.avi  \n",
            "  inflating: training/videos/01_030.avi  \n",
            "  inflating: training/videos/01_031.avi  \n",
            "  inflating: training/videos/01_032.avi  \n",
            "  inflating: training/videos/01_033.avi  \n",
            "  inflating: training/videos/01_034.avi  \n",
            "  inflating: training/videos/01_035.avi  \n",
            "  inflating: training/videos/01_036.avi  \n",
            "  inflating: training/videos/01_037.avi  \n",
            "  inflating: training/videos/01_038.avi  \n",
            "  inflating: training/videos/01_039.avi  \n",
            "  inflating: training/videos/01_040.avi  \n",
            "  inflating: training/videos/01_041.avi  \n",
            "  inflating: training/videos/01_042.avi  \n",
            "  inflating: training/videos/01_043.avi  \n",
            "  inflating: training/videos/01_044.avi  \n",
            "  inflating: training/videos/01_045.avi  \n",
            "  inflating: training/videos/01_046.avi  \n",
            "  inflating: training/videos/01_047.avi  \n",
            "  inflating: training/videos/01_048.avi  \n",
            "  inflating: training/videos/01_049.avi  \n",
            "  inflating: training/videos/01_050.avi  \n",
            "  inflating: training/videos/01_051.avi  \n",
            "  inflating: training/videos/01_052.avi  \n",
            "  inflating: training/videos/01_053.avi  \n",
            "  inflating: training/videos/01_054.avi  \n",
            "  inflating: training/videos/01_055.avi  \n",
            "  inflating: training/videos/01_056.avi  \n",
            "  inflating: training/videos/01_057.avi  \n",
            "  inflating: training/videos/01_058.avi  \n",
            "  inflating: training/videos/01_059.avi  \n",
            "  inflating: training/videos/01_060.avi  \n",
            "  inflating: training/videos/01_061.avi  \n",
            "  inflating: training/videos/01_062.avi  \n",
            "  inflating: training/videos/01_063.avi  \n",
            "  inflating: training/videos/01_064.avi  \n",
            "  inflating: training/videos/01_065.avi  \n",
            "  inflating: training/videos/01_066.avi  \n",
            "  inflating: training/videos/01_067.avi  \n",
            "  inflating: training/videos/01_068.avi  \n",
            "  inflating: training/videos/01_069.avi  \n",
            "  inflating: training/videos/01_070.avi  \n",
            "  inflating: training/videos/01_071.avi  \n",
            "  inflating: training/videos/01_072.avi  \n",
            "  inflating: training/videos/01_073.avi  \n",
            "  inflating: training/videos/01_074.avi  \n",
            "  inflating: training/videos/01_075.avi  \n",
            "  inflating: training/videos/01_076.avi  \n",
            "  inflating: training/videos/01_077.avi  \n",
            "  inflating: training/videos/01_078.avi  \n",
            "  inflating: training/videos/01_079.avi  \n",
            "  inflating: training/videos/01_080.avi  \n",
            "  inflating: training/videos/01_081.avi  \n",
            "  inflating: training/videos/01_082.avi  \n",
            "  inflating: training/videos/01_083.avi  \n",
            "  inflating: training/videos/02_001.avi  \n",
            "  inflating: training/videos/02_002.avi  \n",
            "  inflating: training/videos/02_003.avi  \n",
            "  inflating: training/videos/02_004.avi  \n",
            "  inflating: training/videos/02_005.avi  \n",
            "  inflating: training/videos/02_006.avi  \n",
            "  inflating: training/videos/02_007.avi  \n",
            "  inflating: training/videos/02_008.avi  \n",
            "  inflating: training/videos/02_009.avi  \n",
            "  inflating: training/videos/02_010.avi  \n",
            "  inflating: training/videos/02_011.avi  \n",
            "  inflating: training/videos/02_012.avi  \n",
            "  inflating: training/videos/02_013.avi  \n",
            "  inflating: training/videos/02_014.avi  \n",
            "  inflating: training/videos/02_015.avi  \n",
            "  inflating: training/videos/03_001.avi  \n",
            "  inflating: training/videos/03_002.avi  \n",
            "  inflating: training/videos/03_003.avi  \n",
            "  inflating: training/videos/03_004.avi  \n",
            "  inflating: training/videos/03_005.avi  \n",
            "  inflating: training/videos/03_006.avi  \n",
            "  inflating: training/videos/04_001.avi  \n",
            "  inflating: training/videos/04_002.avi  \n",
            "  inflating: training/videos/04_003.avi  \n",
            "  inflating: training/videos/04_004.avi  \n",
            "  inflating: training/videos/04_005.avi  \n",
            "  inflating: training/videos/04_006.avi  \n",
            "  inflating: training/videos/04_007.avi  \n",
            "  inflating: training/videos/04_008.avi  \n",
            "  inflating: training/videos/04_009.avi  \n",
            "  inflating: training/videos/04_010.avi  \n",
            "  inflating: training/videos/04_011.avi  \n",
            "  inflating: training/videos/04_012.avi  \n",
            "  inflating: training/videos/04_013.avi  \n",
            "  inflating: training/videos/04_014.avi  \n",
            "  inflating: training/videos/04_015.avi  \n",
            "  inflating: training/videos/04_016.avi  \n",
            "  inflating: training/videos/04_017.avi  \n",
            "  inflating: training/videos/04_018.avi  \n",
            "  inflating: training/videos/04_019.avi  \n",
            "  inflating: training/videos/04_020.avi  \n",
            "  inflating: training/videos/05_001.avi  \n",
            "  inflating: training/videos/05_002.avi  \n",
            "  inflating: training/videos/05_003.avi  \n",
            "  inflating: training/videos/05_004.avi  \n",
            "  inflating: training/videos/05_005.avi  \n",
            "  inflating: training/videos/05_006.avi  \n",
            "  inflating: training/videos/05_007.avi  \n",
            "  inflating: training/videos/05_008.avi  \n",
            "  inflating: training/videos/05_009.avi  \n",
            "  inflating: training/videos/05_010.avi  \n",
            "  inflating: training/videos/05_011.avi  \n",
            "  inflating: training/videos/05_012.avi  \n",
            "  inflating: training/videos/05_013.avi  \n",
            "  inflating: training/videos/05_014.avi  \n",
            "  inflating: training/videos/05_015.avi  \n",
            "  inflating: training/videos/05_016.avi  \n",
            "  inflating: training/videos/05_017.avi  \n",
            "  inflating: training/videos/05_018.avi  \n",
            "  inflating: training/videos/05_019.avi  \n",
            "  inflating: training/videos/05_020.avi  \n",
            "  inflating: training/videos/05_021.avi  \n",
            "  inflating: training/videos/05_022.avi  \n",
            "  inflating: training/videos/05_023.avi  \n",
            "  inflating: training/videos/05_024.avi  \n",
            "  inflating: training/videos/05_025.avi  \n",
            "  inflating: training/videos/05_026.avi  \n",
            "  inflating: training/videos/05_027.avi  \n",
            "  inflating: training/videos/05_028.avi  \n",
            "  inflating: training/videos/05_029.avi  \n",
            "  inflating: training/videos/05_030.avi  \n",
            "  inflating: training/videos/05_031.avi  \n",
            "  inflating: training/videos/05_032.avi  \n",
            "  inflating: training/videos/05_033.avi  \n",
            "  inflating: training/videos/05_034.avi  \n",
            "  inflating: training/videos/05_035.avi  \n",
            "  inflating: training/videos/05_036.avi  \n",
            "  inflating: training/videos/05_037.avi  \n",
            "  inflating: training/videos/05_038.avi  \n",
            "  inflating: training/videos/05_039.avi  \n",
            "  inflating: training/videos/05_040.avi  \n",
            "  inflating: training/videos/05_041.avi  \n",
            "  inflating: training/videos/05_042.avi  \n",
            "  inflating: training/videos/05_043.avi  \n",
            "  inflating: training/videos/05_044.avi  \n",
            "  inflating: training/videos/05_045.avi  \n",
            "  inflating: training/videos/05_046.avi  \n",
            "  inflating: training/videos/05_047.avi  \n",
            "  inflating: training/videos/05_048.avi  \n",
            "  inflating: training/videos/05_049.avi  \n",
            "  inflating: training/videos/05_050.avi  \n",
            "  inflating: training/videos/05_051.avi  \n",
            "  inflating: training/videos/05_052.avi  \n",
            "  inflating: training/videos/05_053.avi  \n",
            "  inflating: training/videos/05_054.avi  \n",
            "  inflating: training/videos/05_055.avi  \n",
            "  inflating: training/videos/05_056.avi  \n",
            "  inflating: training/videos/05_057.avi  \n",
            "  inflating: training/videos/05_058.avi  \n",
            "  inflating: training/videos/05_059.avi  \n",
            "  inflating: training/videos/05_060.avi  \n",
            "  inflating: training/videos/05_061.avi  \n",
            "  inflating: training/videos/05_062.avi  \n",
            "  inflating: training/videos/05_063.avi  \n",
            "  inflating: training/videos/05_064.avi  \n",
            "  inflating: training/videos/05_065.avi  \n",
            "  inflating: training/videos/05_066.avi  \n",
            "  inflating: training/videos/06_001.avi  \n",
            "  inflating: training/videos/06_002.avi  \n",
            "  inflating: training/videos/06_003.avi  \n",
            "  inflating: training/videos/06_004.avi  \n",
            "  inflating: training/videos/06_005.avi  \n",
            "  inflating: training/videos/06_006.avi  \n",
            "  inflating: training/videos/06_007.avi  \n",
            "  inflating: training/videos/06_008.avi  \n",
            "  inflating: training/videos/06_009.avi  \n",
            "  inflating: training/videos/06_010.avi  \n",
            "  inflating: training/videos/06_011.avi  \n",
            "  inflating: training/videos/06_012.avi  \n",
            "  inflating: training/videos/06_013.avi  \n",
            "  inflating: training/videos/06_014.avi  \n",
            "  inflating: training/videos/06_015.avi  \n",
            "  inflating: training/videos/06_016.avi  \n",
            "  inflating: training/videos/06_017.avi  \n",
            "  inflating: training/videos/06_018.avi  \n",
            "  inflating: training/videos/06_019.avi  \n",
            "  inflating: training/videos/06_020.avi  \n",
            "  inflating: training/videos/06_021.avi  \n",
            "  inflating: training/videos/06_022.avi  \n",
            "  inflating: training/videos/06_023.avi  \n",
            "  inflating: training/videos/06_024.avi  \n",
            "  inflating: training/videos/06_025.avi  \n",
            "  inflating: training/videos/06_026.avi  \n",
            "  inflating: training/videos/06_027.avi  \n",
            "  inflating: training/videos/06_028.avi  \n",
            "  inflating: training/videos/06_029.avi  \n",
            "  inflating: training/videos/06_030.avi  \n",
            "  inflating: training/videos/07_001.avi  \n",
            "  inflating: training/videos/07_002.avi  \n",
            "  inflating: training/videos/07_003.avi  \n",
            "  inflating: training/videos/07_004.avi  \n",
            "  inflating: training/videos/07_005.avi  \n",
            "  inflating: training/videos/07_006.avi  \n",
            "  inflating: training/videos/07_007.avi  \n",
            "  inflating: training/videos/07_008.avi  \n",
            "  inflating: training/videos/08_001.avi  \n",
            "  inflating: training/videos/08_002.avi  \n",
            "  inflating: training/videos/08_003.avi  \n",
            "  inflating: training/videos/08_004.avi  \n",
            "  inflating: training/videos/08_005.avi  \n",
            "  inflating: training/videos/08_006.avi  \n",
            "  inflating: training/videos/08_007.avi  \n",
            "  inflating: training/videos/08_008.avi  \n",
            "  inflating: training/videos/08_009.avi  \n",
            "  inflating: training/videos/08_010.avi  \n",
            "  inflating: training/videos/08_011.avi  \n",
            "  inflating: training/videos/08_012.avi  \n",
            "  inflating: training/videos/08_013.avi  \n",
            "  inflating: training/videos/08_014.avi  \n",
            "  inflating: training/videos/08_015.avi  \n",
            "  inflating: training/videos/08_016.avi  \n",
            "  inflating: training/videos/08_017.avi  \n",
            "  inflating: training/videos/08_018.avi  \n",
            "  inflating: training/videos/08_019.avi  \n",
            "  inflating: training/videos/08_020.avi  \n",
            "  inflating: training/videos/08_021.avi  \n",
            "  inflating: training/videos/08_022.avi  \n",
            "  inflating: training/videos/08_023.avi  \n",
            "  inflating: training/videos/08_024.avi  \n",
            "  inflating: training/videos/08_025.avi  \n",
            "  inflating: training/videos/08_026.avi  \n",
            "  inflating: training/videos/08_027.avi  \n",
            "  inflating: training/videos/08_028.avi  \n",
            "  inflating: training/videos/08_029.avi  \n",
            "  inflating: training/videos/08_030.avi  \n",
            "  inflating: training/videos/08_031.avi  \n",
            "  inflating: training/videos/08_032.avi  \n",
            "  inflating: training/videos/08_033.avi  \n",
            "  inflating: training/videos/08_034.avi  \n",
            "  inflating: training/videos/08_035.avi  \n",
            "  inflating: training/videos/08_036.avi  \n",
            "  inflating: training/videos/08_037.avi  \n",
            "  inflating: training/videos/08_038.avi  \n",
            "  inflating: training/videos/08_039.avi  \n",
            "  inflating: training/videos/08_040.avi  \n",
            "  inflating: training/videos/08_041.avi  \n",
            "  inflating: training/videos/08_042.avi  \n",
            "  inflating: training/videos/08_043.avi  \n",
            "  inflating: training/videos/08_044.avi  \n",
            "  inflating: training/videos/08_045.avi  \n",
            "  inflating: training/videos/08_046.avi  \n",
            "  inflating: training/videos/08_047.avi  \n",
            "  inflating: training/videos/08_048.avi  \n",
            "  inflating: training/videos/08_049.avi  \n",
            "  inflating: training/videos/09_001.avi  \n",
            "  inflating: training/videos/09_002.avi  \n",
            "  inflating: training/videos/09_003.avi  \n",
            "  inflating: training/videos/09_004.avi  \n",
            "  inflating: training/videos/09_005.avi  \n",
            "  inflating: training/videos/09_006.avi  \n",
            "  inflating: training/videos/09_007.avi  \n",
            "  inflating: training/videos/09_008.avi  \n",
            "  inflating: training/videos/09_009.avi  \n",
            "  inflating: training/videos/09_010.avi  \n",
            "  inflating: training/videos/10_001.avi  \n",
            "  inflating: training/videos/10_002.avi  \n",
            "  inflating: training/videos/10_003.avi  \n",
            "  inflating: training/videos/10_004.avi  \n",
            "  inflating: training/videos/10_005.avi  \n",
            "  inflating: training/videos/10_006.avi  \n",
            "  inflating: training/videos/10_007.avi  \n",
            "  inflating: training/videos/10_008.avi  \n",
            "  inflating: training/videos/10_009.avi  \n",
            "  inflating: training/videos/10_010.avi  \n",
            "  inflating: training/videos/10_011.avi  \n",
            "  inflating: training/videos/11_001.avi  \n",
            "  inflating: training/videos/11_002.avi  \n",
            "  inflating: training/videos/11_003.avi  \n",
            "  inflating: training/videos/11_004.avi  \n",
            "  inflating: training/videos/11_005.avi  \n",
            "  inflating: training/videos/11_006.avi  \n",
            "  inflating: training/videos/11_007.avi  \n",
            "  inflating: training/videos/11_008.avi  \n",
            "  inflating: training/videos/11_009.avi  \n",
            "  inflating: training/videos/11_010.avi  \n",
            "  inflating: training/videos/12_001.avi  \n",
            "  inflating: training/videos/12_002.avi  \n",
            "  inflating: training/videos/12_003.avi  \n",
            "  inflating: training/videos/12_004.avi  \n",
            "  inflating: training/videos/12_005.avi  \n",
            "  inflating: training/videos/12_006.avi  \n",
            "  inflating: training/videos/12_007.avi  \n",
            "  inflating: training/videos/12_008.avi  \n",
            "  inflating: training/videos/12_009.avi  \n",
            "  inflating: training/videos/12_010.avi  \n",
            "  inflating: training/videos/12_011.avi  \n",
            "  inflating: training/videos/12_012.avi  \n",
            "  inflating: training/videos/12_013.avi  \n",
            "  inflating: training/videos/12_014.avi  \n",
            "  inflating: training/videos/12_015.avi  \n",
            "  inflating: training/videos/13_001.avi  \n",
            "  inflating: training/videos/13_002.avi  \n",
            "  inflating: training/videos/13_003.avi  \n",
            "  inflating: training/videos/13_004.avi  \n",
            "  inflating: training/videos/13_005.avi  \n",
            "  inflating: training/videos/13_006.avi  \n",
            "  inflating: training/videos/13_007.avi  \n"
          ]
        }
      ]
    },
    {
      "cell_type": "markdown",
      "source": [
        "## Fetch sau khi thay đổi"
      ],
      "metadata": {
        "id": "aFI6g1rQVQ-w"
      }
    },
    {
      "cell_type": "code",
      "source": [
        "!git fetch"
      ],
      "metadata": {
        "id": "_XMxwnW7QwFr"
      },
      "execution_count": 39,
      "outputs": []
    },
    {
      "cell_type": "code",
      "source": [
        "!git pull origin ficstkeyfx"
      ],
      "metadata": {
        "colab": {
          "base_uri": "https://localhost:8080/"
        },
        "id": "cEv6Xa-fRELR",
        "outputId": "90af235a-b94d-49bb-9f12-d9c5053ba61a"
      },
      "execution_count": 40,
      "outputs": [
        {
          "output_type": "stream",
          "name": "stdout",
          "text": [
            "From https://github.com/tringuyenwap/detection-video\n",
            " * branch            ficstkeyfx -> FETCH_HEAD\n",
            "Updating 5f75603..f8ab8d1\n",
            "Fast-forward\n",
            " utils.py | 2 \u001b[32m+\u001b[m\u001b[31m-\u001b[m\n",
            " 1 file changed, 1 insertion(+), 1 deletion(-)\n"
          ]
        }
      ]
    },
    {
      "cell_type": "markdown",
      "source": [
        "## Tải pretrained mask_rcnn"
      ],
      "metadata": {
        "id": "ER3T04rTVU8f"
      }
    },
    {
      "cell_type": "code",
      "source": [
        "!mkdir models"
      ],
      "metadata": {
        "id": "PEMZo8fkSpl4"
      },
      "execution_count": 15,
      "outputs": []
    },
    {
      "cell_type": "code",
      "source": [
        "%cd models"
      ],
      "metadata": {
        "colab": {
          "base_uri": "https://localhost:8080/"
        },
        "id": "bNXi4o9GS2-R",
        "outputId": "e5e15abf-5fe2-4e96-d61a-e796a9be6c56"
      },
      "execution_count": 16,
      "outputs": [
        {
          "output_type": "stream",
          "name": "stdout",
          "text": [
            "/content/detection-video/models\n"
          ]
        }
      ]
    },
    {
      "cell_type": "code",
      "source": [
        "!mkdir mask_rcnn"
      ],
      "metadata": {
        "id": "Zdz0yhNMS69f"
      },
      "execution_count": 17,
      "outputs": []
    },
    {
      "cell_type": "code",
      "source": [
        "%cd mask_rcnn/"
      ],
      "metadata": {
        "colab": {
          "base_uri": "https://localhost:8080/"
        },
        "id": "guu0bGZPS8lP",
        "outputId": "fef80467-9770-40be-d541-cddca7de0cbd"
      },
      "execution_count": 18,
      "outputs": [
        {
          "output_type": "stream",
          "name": "stdout",
          "text": [
            "/content/detection-video/models/mask_rcnn\n"
          ]
        }
      ]
    },
    {
      "cell_type": "code",
      "source": [
        "!wget http://download.tensorflow.org/models/object_detection/mask_rcnn_inception_v2_coco_2018_01_28.tar.gz"
      ],
      "metadata": {
        "colab": {
          "base_uri": "https://localhost:8080/"
        },
        "id": "F1IgI9OgS_oq",
        "outputId": "4e8501f2-5e61-46ac-b490-72f10182c18e"
      },
      "execution_count": 19,
      "outputs": [
        {
          "output_type": "stream",
          "name": "stdout",
          "text": [
            "--2023-06-10 07:53:56--  http://download.tensorflow.org/models/object_detection/mask_rcnn_inception_v2_coco_2018_01_28.tar.gz\n",
            "Resolving download.tensorflow.org (download.tensorflow.org)... 142.251.2.128, 2607:f8b0:4023:c06::80\n",
            "Connecting to download.tensorflow.org (download.tensorflow.org)|142.251.2.128|:80... connected.\n",
            "HTTP request sent, awaiting response... 200 OK\n",
            "Length: 177817887 (170M) [application/x-tar]\n",
            "Saving to: ‘mask_rcnn_inception_v2_coco_2018_01_28.tar.gz’\n",
            "\n",
            "mask_rcnn_inception 100%[===================>] 169.58M  73.5MB/s    in 2.3s    \n",
            "\n",
            "2023-06-10 07:53:59 (73.5 MB/s) - ‘mask_rcnn_inception_v2_coco_2018_01_28.tar.gz’ saved [177817887/177817887]\n",
            "\n"
          ]
        }
      ]
    },
    {
      "cell_type": "code",
      "source": [
        "%cd /content/detection-video/models/mask_rcnn"
      ],
      "metadata": {
        "colab": {
          "base_uri": "https://localhost:8080/"
        },
        "id": "dmP5LVvVUhyf",
        "outputId": "08a42d6b-d16e-41f6-ce0f-165b3d148cde"
      },
      "execution_count": 42,
      "outputs": [
        {
          "output_type": "stream",
          "name": "stdout",
          "text": [
            "/content/detection-video/models/mask_rcnn\n"
          ]
        }
      ]
    },
    {
      "cell_type": "code",
      "source": [
        "!tar -xf mask_rcnn_inception_v2_coco_2018_01_28.tar.gz"
      ],
      "metadata": {
        "id": "OpE9lkeFTKZc"
      },
      "execution_count": 43,
      "outputs": []
    },
    {
      "cell_type": "code",
      "source": [
        "!ls"
      ],
      "metadata": {
        "colab": {
          "base_uri": "https://localhost:8080/"
        },
        "id": "39CXCewxUmjS",
        "outputId": "913be1ea-cd82-4a31-f3bc-d12605d1c894"
      },
      "execution_count": 44,
      "outputs": [
        {
          "output_type": "stream",
          "name": "stdout",
          "text": [
            "checkpoint\t\t\t\t       model.ckpt.index\n",
            "frozen_inference_graph.pb\t\t       model.ckpt.meta\n",
            "mask_rcnn_inception_v2_coco_2018_01_28\t       pipeline.config\n",
            "mask_rcnn_inception_v2_coco_2018_01_28.tar.gz  saved_model\n",
            "model.ckpt.data-00000-of-00001\n"
          ]
        }
      ]
    },
    {
      "cell_type": "code",
      "source": [
        "%cd /content/detection-video/models/mask_rcnn/mask_rcnn_inception_v2_coco_2018_01_28\n",
        "!wget http://download.tensorflow.org/models/object_detection/mask_rcnn_inception_v2_coco_2018_01_28.tar.gz"
      ],
      "metadata": {
        "colab": {
          "base_uri": "https://localhost:8080/"
        },
        "id": "b18rM6p5XFjK",
        "outputId": "f3c6721f-b0e8-407f-b468-896cf4c7b848"
      },
      "execution_count": 46,
      "outputs": [
        {
          "output_type": "stream",
          "name": "stdout",
          "text": [
            "/content/detection-video/models/mask_rcnn/mask_rcnn_inception_v2_coco_2018_01_28\n"
          ]
        }
      ]
    },
    {
      "cell_type": "markdown",
      "source": [
        "## Extract mask_rcnn"
      ],
      "metadata": {
        "id": "TQWwDYWXVhDh"
      }
    },
    {
      "cell_type": "code",
      "source": [
        "%cd /content/detection-video\n",
        "!python mask_extraction.py"
      ],
      "metadata": {
        "colab": {
          "base_uri": "https://localhost:8080/"
        },
        "id": "EPXe7plATVO6",
        "outputId": "8a34221b-229c-47e7-8cac-6b9c3e1c5124"
      },
      "execution_count": 45,
      "outputs": [
        {
          "output_type": "stream",
          "name": "stdout",
          "text": [
            "/content/detection-video\n",
            "2023-06-10 08:08:01.115228: I tensorflow/core/platform/cpu_feature_guard.cc:182] This TensorFlow binary is optimized to use available CPU instructions in performance-critical operations.\n",
            "To enable the following instructions: AVX2 FMA, in other operations, rebuild TensorFlow with the appropriate compiler flags.\n",
            "2023-06-10 08:08:02.366278: W tensorflow/compiler/tf2tensorrt/utils/py_utils.cc:38] TF-TRT Warning: Could not find TensorRT\n",
            "\n",
            "\n",
            "\n",
            "\n",
            "\n",
            "Starting the algorithm with the following parameters: \n",
            "     np=<module 'numpy' from '/usr/local/lib/python3.10/dist-packages/numpy/__init__.py'>\n",
            "     tf=<module 'tensorflow' from '/usr/local/lib/python3.10/dist-packages/tensorflow/__init__.py'>\n",
            "     os=<module 'os' from '/usr/lib/python3.10/os.py'>\n",
            "     ProcessingType=<enum 'ProcessingType'>\n",
            "     log_message=<function log_message at 0x7fcec732f7f0>\n",
            "     check_file_existence=<function check_file_existence at 0x7fcec732fac0>\n",
            "     pdb=<module 'pdb' from '/usr/lib/python3.10/pdb.py'>\n",
            "     sys=<module 'sys' (built-in)>\n",
            "     create_dir=<function create_dir at 0x7fcec732fa30>\n",
            "     operating_system=linux\n",
            "     tf_config=device_count {\n",
            "  key: \"GPU\"\n",
            "  value: 1\n",
            "}\n",
            "gpu_options {\n",
            "  per_process_gpu_memory_fraction: 0.2\n",
            "}\n",
            "\n",
            "     temporal_stride=5\n",
            "     temporal_size=5\n",
            "     temporal_offsets=[-5  0  5]\n",
            "     detection_threshold=0.8\n",
            "     lambda_=1.0\n",
            "     database_name=ShanghaiTech\n",
            "     output_folder_base=/content/detection-video/output_yolo_0.80\n",
            "     input_folder_base=/content/detection-video\n",
            "     adversarial_images_path=/home/lili/datasets/adversarial_images\n",
            "     samples_folder_name=images_5_5_0.80\n",
            "     meta_folder_name=meta_5_5_0.80\n",
            "     object_detector_num_classes=90\n",
            "     block_scale=20\n",
            "     logs_folder=logs\n",
            "     num_samples_for_visualization=500\n",
            "     CHECKPOINTS_PREFIX=adv_excluded_classes_unet_1.000000\n",
            "     excluded_training_classes=[2, 3, 4, 6, 8]\n",
            "     CHECKPOINTS_BASE=/content/detection-video/output_yolo_0.80/ShanghaiTech/checkpoints/adv_excluded_classes_unet_1.000000\n",
            "     allowed_video_extensions=['avi', 'mp4']\n",
            "     allowed_image_extensions=['jpg', 'png', 'jpeg']\n",
            "     RESTORE_FROM_HISTORY=True\n",
            "     history_filename=history_ShanghaiTech_%s.txt\n",
            "     log_parameters=<function log_parameters at 0x7fcec732ff40>\n",
            "\n",
            "Reading 330 video names from /content/detection-video/train/videos.\n",
            "There are 330 video in /content/detection-video/train/videos after reading the history file.\n",
            "Processing video 01_001.avi, 0/330..\n",
            "Traceback (most recent call last):\n",
            "  File \"/content/detection-video/mask_extraction.py\", line 111, in <module>\n",
            "    extract_masks(utils.ProcessingType.TRAIN, is_video=True)\n",
            "  File \"/content/detection-video/mask_extraction.py\", line 94, in extract_masks\n",
            "    detections = obj_detector.get_detections(frame_to_process)\n",
            "  File \"/content/detection-video/obj_det/mask_rcnn.py\", line 101, in get_detections\n",
            "    __run_detection_network([processed_image])\n",
            "  File \"/content/detection-video/obj_det/mask_rcnn.py\", line 38, in __run_detection_network\n",
            "    [self.session.graph.get_tensor_by_name(self.graph_name + '/detection_boxes:0'),\n",
            "  File \"/usr/local/lib/python3.10/dist-packages/tensorflow/python/framework/ops.py\", line 4188, in get_tensor_by_name\n",
            "    return self.as_graph_element(name, allow_tensor=True, allow_operation=False)\n",
            "  File \"/usr/local/lib/python3.10/dist-packages/tensorflow/python/framework/ops.py\", line 4012, in as_graph_element\n",
            "    return self._as_graph_element_locked(obj, allow_tensor, allow_operation)\n",
            "  File \"/usr/local/lib/python3.10/dist-packages/tensorflow/python/framework/ops.py\", line 4052, in _as_graph_element_locked\n",
            "    raise KeyError(\"The name %s refers to a Tensor which does not \"\n",
            "KeyError: \"The name 'mask_rcnn/detection_boxes:0' refers to a Tensor which does not exist. The operation, 'mask_rcnn/detection_boxes', does not exist in the graph.\"\n"
          ]
        }
      ]
    },
    {
      "cell_type": "code",
      "source": [
        "/content/detection-video/models/mask_rcnn\n",
        "/content/detection-video/models/mask_rcnn"
      ],
      "metadata": {
        "id": "pZl5tA_bUPOw"
      },
      "execution_count": null,
      "outputs": []
    }
  ]
}