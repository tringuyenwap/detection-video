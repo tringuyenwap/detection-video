{
  "cells": [
    {
      "cell_type": "code",
      "execution_count": null,
      "metadata": {
        "colab": {
          "base_uri": "https://localhost:8080/"
        },
        "id": "gFmCeA_yEnYY",
        "outputId": "aca9583f-68c5-4fb8-9478-a82c9af6285a"
      },
      "outputs": [
        {
          "name": "stdout",
          "output_type": "stream",
          "text": [
            "Cloning into 'detection-video'...\n",
            "remote: Enumerating objects: 240, done.\u001b[K\n",
            "remote: Counting objects: 100% (240/240), done.\u001b[K\n",
            "remote: Compressing objects: 100% (175/175), done.\u001b[K\n",
            "remote: Total 240 (delta 109), reused 180 (delta 59), pack-reused 0\u001b[K\n",
            "Receiving objects: 100% (240/240), 259.55 KiB | 10.81 MiB/s, done.\n",
            "Resolving deltas: 100% (109/109), done.\n"
          ]
        }
      ],
      "source": [
        "!git clone https://github.com/tringuyenwap/detection-video "
      ]
    },
    {
      "cell_type": "markdown",
      "metadata": {
        "id": "ydk716C1VajX"
      },
      "source": [
        "## Tải dữ liệu"
      ]
    },
    {
      "cell_type": "code",
      "execution_count": null,
      "metadata": {
        "colab": {
          "base_uri": "https://localhost:8080/"
        },
        "id": "0UNpMMwCGGJJ",
        "outputId": "5ee11c8d-f49b-4170-d11f-5b75169451be"
      },
      "outputs": [
        {
          "name": "stdout",
          "output_type": "stream",
          "text": [
            "/content/detection-video\n"
          ]
        }
      ],
      "source": [
        "%cd detection-video"
      ]
    },
    {
      "cell_type": "code",
      "execution_count": null,
      "metadata": {
        "colab": {
          "base_uri": "https://localhost:8080/"
        },
        "id": "d8ET_jU1GH4L",
        "outputId": "2e608f5e-aaaf-461c-85af-b4d827610139"
      },
      "outputs": [
        {
          "name": "stdout",
          "output_type": "stream",
          "text": [
            "--2023-06-11 13:41:40--  http://101.32.75.151:8181/dataset/ShanghaiTech/training.zip\n",
            "Connecting to 101.32.75.151:8181... connected.\n",
            "HTTP request sent, awaiting response... 302 Found\n",
            "Location: https://public.bn.files.1drv.com/y4mVDOXHGIYgGiHCqZX0lLtN3iLdhgPZKaiehETDc5ypl94C0tqYd4qsos7RgwrzXTFW0ilgKgnTrgVs1iRK5LwZOTn4LfthQZCUKbZfZteWXaoO27dHk5uNb5BPCmqZfw5OLIuK8XradVFz6PAUCMxmVx-r30uH7BdWpL98iOmf7SCcq7e8ELGh5iQAPtqqY_hclz0RVbN3s6Abm38AfiA_8phmH1zrCqp1vph5Y-9U2xq9vg7UF0Qy2NIBFpxUa8u [following]\n",
            "--2023-06-11 13:41:40--  https://public.bn.files.1drv.com/y4mVDOXHGIYgGiHCqZX0lLtN3iLdhgPZKaiehETDc5ypl94C0tqYd4qsos7RgwrzXTFW0ilgKgnTrgVs1iRK5LwZOTn4LfthQZCUKbZfZteWXaoO27dHk5uNb5BPCmqZfw5OLIuK8XradVFz6PAUCMxmVx-r30uH7BdWpL98iOmf7SCcq7e8ELGh5iQAPtqqY_hclz0RVbN3s6Abm38AfiA_8phmH1zrCqp1vph5Y-9U2xq9vg7UF0Qy2NIBFpxUa8u\n",
            "Resolving public.bn.files.1drv.com (public.bn.files.1drv.com)... 13.107.42.12\n",
            "Connecting to public.bn.files.1drv.com (public.bn.files.1drv.com)|13.107.42.12|:443... connected.\n",
            "HTTP request sent, awaiting response... 200 OK\n",
            "Length: 2466248887 (2.3G) [application/zip]\n",
            "Saving to: ‘training.zip’\n",
            "\n",
            "training.zip        100%[===================>]   2.30G  44.0MB/s    in 58s     \n",
            "\n",
            "2023-06-11 13:42:39 (40.3 MB/s) - ‘training.zip’ saved [2466248887/2466248887]\n",
            "\n"
          ]
        }
      ],
      "source": [
        "!wget http://101.32.75.151:8181/dataset/ShanghaiTech/training.zip"
      ]
    },
    {
      "cell_type": "code",
      "execution_count": null,
      "metadata": {
        "colab": {
          "base_uri": "https://localhost:8080/"
        },
        "id": "k8DPTi7vGJL0",
        "outputId": "67e21f90-4428-406e-c980-3ceb4e469a95"
      },
      "outputs": [
        {
          "name": "stdout",
          "output_type": "stream",
          "text": [
            "Archive:  /content/detection-video/training.zip\n",
            "   creating: training/\n",
            "   creating: training/videos/\n",
            "  inflating: training/videos/01_001.avi  \n",
            "  inflating: training/videos/01_002.avi  \n",
            "  inflating: training/videos/01_003.avi  \n",
            "  inflating: training/videos/01_004.avi  \n",
            "  inflating: training/videos/01_005.avi  \n",
            "  inflating: training/videos/01_006.avi  \n",
            "  inflating: training/videos/01_007.avi  \n",
            "  inflating: training/videos/01_008.avi  \n",
            "  inflating: training/videos/01_009.avi  \n",
            "  inflating: training/videos/01_010.avi  \n",
            "  inflating: training/videos/01_011.avi  \n",
            "  inflating: training/videos/01_012.avi  \n",
            "  inflating: training/videos/01_013.avi  \n",
            "  inflating: training/videos/01_014.avi  \n",
            "  inflating: training/videos/01_015.avi  \n",
            "  inflating: training/videos/01_016.avi  \n",
            "  inflating: training/videos/01_017.avi  \n",
            "  inflating: training/videos/01_018.avi  \n",
            "  inflating: training/videos/01_019.avi  \n",
            "  inflating: training/videos/01_020.avi  \n",
            "  inflating: training/videos/01_021.avi  \n",
            "  inflating: training/videos/01_022.avi  \n",
            "  inflating: training/videos/01_023.avi  \n",
            "  inflating: training/videos/01_024.avi  \n",
            "  inflating: training/videos/01_025.avi  \n",
            "  inflating: training/videos/01_026.avi  \n",
            "  inflating: training/videos/01_027.avi  \n",
            "  inflating: training/videos/01_028.avi  \n",
            "  inflating: training/videos/01_029.avi  \n",
            "  inflating: training/videos/01_030.avi  \n",
            "  inflating: training/videos/01_031.avi  \n",
            "  inflating: training/videos/01_032.avi  \n",
            "  inflating: training/videos/01_033.avi  \n",
            "  inflating: training/videos/01_034.avi  \n",
            "  inflating: training/videos/01_035.avi  \n",
            "  inflating: training/videos/01_036.avi  \n",
            "  inflating: training/videos/01_037.avi  \n",
            "  inflating: training/videos/01_038.avi  \n",
            "  inflating: training/videos/01_039.avi  \n",
            "  inflating: training/videos/01_040.avi  \n",
            "  inflating: training/videos/01_041.avi  \n",
            "  inflating: training/videos/01_042.avi  \n",
            "  inflating: training/videos/01_043.avi  \n",
            "  inflating: training/videos/01_044.avi  \n",
            "  inflating: training/videos/01_045.avi  \n",
            "  inflating: training/videos/01_046.avi  \n",
            "  inflating: training/videos/01_047.avi  \n",
            "  inflating: training/videos/01_048.avi  \n",
            "  inflating: training/videos/01_049.avi  \n",
            "  inflating: training/videos/01_050.avi  \n",
            "  inflating: training/videos/01_051.avi  \n",
            "  inflating: training/videos/01_052.avi  \n",
            "  inflating: training/videos/01_053.avi  \n",
            "  inflating: training/videos/01_054.avi  \n",
            "  inflating: training/videos/01_055.avi  \n",
            "  inflating: training/videos/01_056.avi  \n",
            "  inflating: training/videos/01_057.avi  \n",
            "  inflating: training/videos/01_058.avi  \n",
            "  inflating: training/videos/01_059.avi  \n",
            "  inflating: training/videos/01_060.avi  \n",
            "  inflating: training/videos/01_061.avi  \n",
            "  inflating: training/videos/01_062.avi  \n",
            "  inflating: training/videos/01_063.avi  \n",
            "  inflating: training/videos/01_064.avi  \n",
            "  inflating: training/videos/01_065.avi  \n",
            "  inflating: training/videos/01_066.avi  \n",
            "  inflating: training/videos/01_067.avi  \n",
            "  inflating: training/videos/01_068.avi  \n",
            "  inflating: training/videos/01_069.avi  \n",
            "  inflating: training/videos/01_070.avi  \n",
            "  inflating: training/videos/01_071.avi  \n",
            "  inflating: training/videos/01_072.avi  \n",
            "  inflating: training/videos/01_073.avi  \n",
            "  inflating: training/videos/01_074.avi  \n",
            "  inflating: training/videos/01_075.avi  \n",
            "  inflating: training/videos/01_076.avi  \n",
            "  inflating: training/videos/01_077.avi  \n",
            "  inflating: training/videos/01_078.avi  \n",
            "  inflating: training/videos/01_079.avi  \n",
            "  inflating: training/videos/01_080.avi  \n",
            "  inflating: training/videos/01_081.avi  \n",
            "  inflating: training/videos/01_082.avi  \n",
            "  inflating: training/videos/01_083.avi  \n",
            "  inflating: training/videos/02_001.avi  \n",
            "  inflating: training/videos/02_002.avi  \n",
            "  inflating: training/videos/02_003.avi  \n",
            "  inflating: training/videos/02_004.avi  \n",
            "  inflating: training/videos/02_005.avi  \n",
            "  inflating: training/videos/02_006.avi  \n",
            "  inflating: training/videos/02_007.avi  \n",
            "  inflating: training/videos/02_008.avi  \n",
            "  inflating: training/videos/02_009.avi  \n",
            "  inflating: training/videos/02_010.avi  \n",
            "  inflating: training/videos/02_011.avi  \n",
            "  inflating: training/videos/02_012.avi  \n",
            "  inflating: training/videos/02_013.avi  \n",
            "  inflating: training/videos/02_014.avi  \n",
            "  inflating: training/videos/02_015.avi  \n",
            "  inflating: training/videos/03_001.avi  \n",
            "  inflating: training/videos/03_002.avi  \n",
            "  inflating: training/videos/03_003.avi  \n",
            "  inflating: training/videos/03_004.avi  \n",
            "  inflating: training/videos/03_005.avi  \n",
            "  inflating: training/videos/03_006.avi  \n",
            "  inflating: training/videos/04_001.avi  \n",
            "  inflating: training/videos/04_002.avi  \n",
            "  inflating: training/videos/04_003.avi  \n",
            "  inflating: training/videos/04_004.avi  \n",
            "  inflating: training/videos/04_005.avi  \n",
            "  inflating: training/videos/04_006.avi  \n",
            "  inflating: training/videos/04_007.avi  \n",
            "  inflating: training/videos/04_008.avi  \n",
            "  inflating: training/videos/04_009.avi  \n",
            "  inflating: training/videos/04_010.avi  \n",
            "  inflating: training/videos/04_011.avi  \n",
            "  inflating: training/videos/04_012.avi  \n",
            "  inflating: training/videos/04_013.avi  \n",
            "  inflating: training/videos/04_014.avi  \n",
            "  inflating: training/videos/04_015.avi  \n",
            "  inflating: training/videos/04_016.avi  \n",
            "  inflating: training/videos/04_017.avi  \n",
            "  inflating: training/videos/04_018.avi  \n",
            "  inflating: training/videos/04_019.avi  \n",
            "  inflating: training/videos/04_020.avi  \n",
            "  inflating: training/videos/05_001.avi  \n",
            "  inflating: training/videos/05_002.avi  \n",
            "  inflating: training/videos/05_003.avi  \n",
            "  inflating: training/videos/05_004.avi  \n",
            "  inflating: training/videos/05_005.avi  \n",
            "  inflating: training/videos/05_006.avi  \n",
            "  inflating: training/videos/05_007.avi  \n",
            "  inflating: training/videos/05_008.avi  \n",
            "  inflating: training/videos/05_009.avi  \n",
            "  inflating: training/videos/05_010.avi  \n",
            "  inflating: training/videos/05_011.avi  \n",
            "  inflating: training/videos/05_012.avi  \n",
            "  inflating: training/videos/05_013.avi  \n",
            "  inflating: training/videos/05_014.avi  \n",
            "  inflating: training/videos/05_015.avi  \n",
            "  inflating: training/videos/05_016.avi  \n",
            "  inflating: training/videos/05_017.avi  \n",
            "  inflating: training/videos/05_018.avi  \n",
            "  inflating: training/videos/05_019.avi  \n",
            "  inflating: training/videos/05_020.avi  \n",
            "  inflating: training/videos/05_021.avi  \n",
            "  inflating: training/videos/05_022.avi  \n",
            "  inflating: training/videos/05_023.avi  \n",
            "  inflating: training/videos/05_024.avi  \n",
            "  inflating: training/videos/05_025.avi  \n",
            "  inflating: training/videos/05_026.avi  \n",
            "  inflating: training/videos/05_027.avi  \n",
            "  inflating: training/videos/05_028.avi  \n",
            "  inflating: training/videos/05_029.avi  \n",
            "  inflating: training/videos/05_030.avi  \n",
            "  inflating: training/videos/05_031.avi  \n",
            "  inflating: training/videos/05_032.avi  \n",
            "  inflating: training/videos/05_033.avi  \n",
            "  inflating: training/videos/05_034.avi  \n",
            "  inflating: training/videos/05_035.avi  \n",
            "  inflating: training/videos/05_036.avi  \n",
            "  inflating: training/videos/05_037.avi  \n",
            "  inflating: training/videos/05_038.avi  \n",
            "  inflating: training/videos/05_039.avi  \n",
            "  inflating: training/videos/05_040.avi  \n",
            "  inflating: training/videos/05_041.avi  \n",
            "  inflating: training/videos/05_042.avi  \n",
            "  inflating: training/videos/05_043.avi  \n",
            "  inflating: training/videos/05_044.avi  \n",
            "  inflating: training/videos/05_045.avi  \n",
            "  inflating: training/videos/05_046.avi  \n",
            "  inflating: training/videos/05_047.avi  \n",
            "  inflating: training/videos/05_048.avi  \n",
            "  inflating: training/videos/05_049.avi  \n",
            "  inflating: training/videos/05_050.avi  \n",
            "  inflating: training/videos/05_051.avi  \n",
            "  inflating: training/videos/05_052.avi  \n",
            "  inflating: training/videos/05_053.avi  \n",
            "  inflating: training/videos/05_054.avi  \n",
            "  inflating: training/videos/05_055.avi  \n",
            "  inflating: training/videos/05_056.avi  \n",
            "  inflating: training/videos/05_057.avi  \n",
            "  inflating: training/videos/05_058.avi  \n",
            "  inflating: training/videos/05_059.avi  \n",
            "  inflating: training/videos/05_060.avi  \n",
            "  inflating: training/videos/05_061.avi  \n",
            "  inflating: training/videos/05_062.avi  \n",
            "  inflating: training/videos/05_063.avi  \n",
            "  inflating: training/videos/05_064.avi  \n",
            "  inflating: training/videos/05_065.avi  \n",
            "  inflating: training/videos/05_066.avi  \n",
            "  inflating: training/videos/06_001.avi  \n",
            "  inflating: training/videos/06_002.avi  \n",
            "  inflating: training/videos/06_003.avi  \n",
            "  inflating: training/videos/06_004.avi  \n",
            "  inflating: training/videos/06_005.avi  \n",
            "  inflating: training/videos/06_006.avi  \n",
            "  inflating: training/videos/06_007.avi  \n",
            "  inflating: training/videos/06_008.avi  \n",
            "  inflating: training/videos/06_009.avi  \n",
            "  inflating: training/videos/06_010.avi  \n",
            "  inflating: training/videos/06_011.avi  \n",
            "  inflating: training/videos/06_012.avi  \n",
            "  inflating: training/videos/06_013.avi  \n",
            "  inflating: training/videos/06_014.avi  \n",
            "  inflating: training/videos/06_015.avi  \n",
            "  inflating: training/videos/06_016.avi  \n",
            "  inflating: training/videos/06_017.avi  \n",
            "  inflating: training/videos/06_018.avi  \n",
            "  inflating: training/videos/06_019.avi  \n",
            "  inflating: training/videos/06_020.avi  \n",
            "  inflating: training/videos/06_021.avi  \n",
            "  inflating: training/videos/06_022.avi  \n",
            "  inflating: training/videos/06_023.avi  \n",
            "  inflating: training/videos/06_024.avi  \n",
            "  inflating: training/videos/06_025.avi  \n",
            "  inflating: training/videos/06_026.avi  \n",
            "  inflating: training/videos/06_027.avi  \n",
            "  inflating: training/videos/06_028.avi  \n",
            "  inflating: training/videos/06_029.avi  \n",
            "  inflating: training/videos/06_030.avi  \n",
            "  inflating: training/videos/07_001.avi  \n",
            "  inflating: training/videos/07_002.avi  \n",
            "  inflating: training/videos/07_003.avi  \n",
            "  inflating: training/videos/07_004.avi  \n",
            "  inflating: training/videos/07_005.avi  \n",
            "  inflating: training/videos/07_006.avi  \n",
            "  inflating: training/videos/07_007.avi  \n",
            "  inflating: training/videos/07_008.avi  \n",
            "  inflating: training/videos/08_001.avi  \n",
            "  inflating: training/videos/08_002.avi  \n",
            "  inflating: training/videos/08_003.avi  \n",
            "  inflating: training/videos/08_004.avi  \n",
            "  inflating: training/videos/08_005.avi  \n",
            "  inflating: training/videos/08_006.avi  \n",
            "  inflating: training/videos/08_007.avi  \n",
            "  inflating: training/videos/08_008.avi  \n",
            "  inflating: training/videos/08_009.avi  \n",
            "  inflating: training/videos/08_010.avi  \n",
            "  inflating: training/videos/08_011.avi  \n",
            "  inflating: training/videos/08_012.avi  \n",
            "  inflating: training/videos/08_013.avi  \n",
            "  inflating: training/videos/08_014.avi  \n",
            "  inflating: training/videos/08_015.avi  \n",
            "  inflating: training/videos/08_016.avi  \n",
            "  inflating: training/videos/08_017.avi  \n",
            "  inflating: training/videos/08_018.avi  \n",
            "  inflating: training/videos/08_019.avi  \n",
            "  inflating: training/videos/08_020.avi  \n",
            "  inflating: training/videos/08_021.avi  \n",
            "  inflating: training/videos/08_022.avi  \n",
            "  inflating: training/videos/08_023.avi  \n",
            "  inflating: training/videos/08_024.avi  \n",
            "  inflating: training/videos/08_025.avi  \n",
            "  inflating: training/videos/08_026.avi  \n",
            "  inflating: training/videos/08_027.avi  \n",
            "  inflating: training/videos/08_028.avi  \n",
            "  inflating: training/videos/08_029.avi  \n",
            "  inflating: training/videos/08_030.avi  \n",
            "  inflating: training/videos/08_031.avi  \n",
            "  inflating: training/videos/08_032.avi  \n",
            "  inflating: training/videos/08_033.avi  \n",
            "  inflating: training/videos/08_034.avi  \n",
            "  inflating: training/videos/08_035.avi  \n",
            "  inflating: training/videos/08_036.avi  \n",
            "  inflating: training/videos/08_037.avi  \n",
            "  inflating: training/videos/08_038.avi  \n",
            "  inflating: training/videos/08_039.avi  \n",
            "  inflating: training/videos/08_040.avi  \n",
            "  inflating: training/videos/08_041.avi  \n",
            "  inflating: training/videos/08_042.avi  \n",
            "  inflating: training/videos/08_043.avi  \n",
            "  inflating: training/videos/08_044.avi  \n",
            "  inflating: training/videos/08_045.avi  \n",
            "  inflating: training/videos/08_046.avi  \n",
            "  inflating: training/videos/08_047.avi  \n",
            "  inflating: training/videos/08_048.avi  \n",
            "  inflating: training/videos/08_049.avi  \n",
            "  inflating: training/videos/09_001.avi  \n",
            "  inflating: training/videos/09_002.avi  \n",
            "  inflating: training/videos/09_003.avi  \n",
            "  inflating: training/videos/09_004.avi  \n",
            "  inflating: training/videos/09_005.avi  \n",
            "  inflating: training/videos/09_006.avi  \n",
            "  inflating: training/videos/09_007.avi  \n",
            "  inflating: training/videos/09_008.avi  \n",
            "  inflating: training/videos/09_009.avi  \n",
            "  inflating: training/videos/09_010.avi  \n",
            "  inflating: training/videos/10_001.avi  \n",
            "  inflating: training/videos/10_002.avi  \n",
            "  inflating: training/videos/10_003.avi  \n",
            "  inflating: training/videos/10_004.avi  \n",
            "  inflating: training/videos/10_005.avi  \n",
            "  inflating: training/videos/10_006.avi  \n",
            "  inflating: training/videos/10_007.avi  \n",
            "  inflating: training/videos/10_008.avi  \n",
            "  inflating: training/videos/10_009.avi  \n",
            "  inflating: training/videos/10_010.avi  \n",
            "  inflating: training/videos/10_011.avi  \n",
            "  inflating: training/videos/11_001.avi  \n",
            "  inflating: training/videos/11_002.avi  \n",
            "  inflating: training/videos/11_003.avi  \n",
            "  inflating: training/videos/11_004.avi  \n",
            "  inflating: training/videos/11_005.avi  \n",
            "  inflating: training/videos/11_006.avi  \n",
            "  inflating: training/videos/11_007.avi  \n",
            "  inflating: training/videos/11_008.avi  \n",
            "  inflating: training/videos/11_009.avi  \n",
            "  inflating: training/videos/11_010.avi  \n",
            "  inflating: training/videos/12_001.avi  \n",
            "  inflating: training/videos/12_002.avi  \n",
            "  inflating: training/videos/12_003.avi  \n",
            "  inflating: training/videos/12_004.avi  \n",
            "  inflating: training/videos/12_005.avi  \n",
            "  inflating: training/videos/12_006.avi  \n",
            "  inflating: training/videos/12_007.avi  \n",
            "  inflating: training/videos/12_008.avi  \n",
            "  inflating: training/videos/12_009.avi  \n",
            "  inflating: training/videos/12_010.avi  \n",
            "  inflating: training/videos/12_011.avi  \n",
            "  inflating: training/videos/12_012.avi  \n",
            "  inflating: training/videos/12_013.avi  \n",
            "  inflating: training/videos/12_014.avi  \n",
            "  inflating: training/videos/12_015.avi  \n",
            "  inflating: training/videos/13_001.avi  \n",
            "  inflating: training/videos/13_002.avi  \n",
            "  inflating: training/videos/13_003.avi  \n",
            "  inflating: training/videos/13_004.avi  \n",
            "  inflating: training/videos/13_005.avi  \n",
            "  inflating: training/videos/13_006.avi  \n",
            "  inflating: training/videos/13_007.avi  \n"
          ]
        }
      ],
      "source": [
        "!unzip /content/detection-video/training.zip\n",
        "!mv /content/detection-video/training /content/detection-video/train"
      ]
    },
    {
      "cell_type": "markdown",
      "metadata": {
        "id": "ER3T04rTVU8f"
      },
      "source": [
        "## Tải pretrained mask_rcnn"
      ]
    },
    {
      "cell_type": "code",
      "execution_count": null,
      "metadata": {
        "id": "PEMZo8fkSpl4"
      },
      "outputs": [],
      "source": [
        "!mkdir models"
      ]
    },
    {
      "cell_type": "code",
      "execution_count": null,
      "metadata": {
        "colab": {
          "base_uri": "https://localhost:8080/"
        },
        "id": "bNXi4o9GS2-R",
        "outputId": "2085169a-5437-4705-f672-78f579feba1a"
      },
      "outputs": [
        {
          "name": "stdout",
          "output_type": "stream",
          "text": [
            "/content/detection-video/models\n"
          ]
        }
      ],
      "source": [
        "%cd models"
      ]
    },
    {
      "cell_type": "code",
      "execution_count": null,
      "metadata": {
        "id": "Zdz0yhNMS69f"
      },
      "outputs": [],
      "source": [
        "!mkdir mask_rcnn"
      ]
    },
    {
      "cell_type": "code",
      "execution_count": null,
      "metadata": {
        "colab": {
          "base_uri": "https://localhost:8080/"
        },
        "id": "guu0bGZPS8lP",
        "outputId": "40ac7345-767d-4e71-b7b1-256819b1ee94"
      },
      "outputs": [
        {
          "name": "stdout",
          "output_type": "stream",
          "text": [
            "/content/detection-video/models/mask_rcnn\n"
          ]
        }
      ],
      "source": [
        "%cd mask_rcnn/"
      ]
    },
    {
      "cell_type": "code",
      "execution_count": null,
      "metadata": {
        "colab": {
          "base_uri": "https://localhost:8080/"
        },
        "id": "F1IgI9OgS_oq",
        "outputId": "4dc94c6a-580a-4809-ed7b-c6574ce4fb27"
      },
      "outputs": [
        {
          "name": "stdout",
          "output_type": "stream",
          "text": [
            "--2023-06-11 10:43:38--  http://download.tensorflow.org/models/object_detection/mask_rcnn_inception_v2_coco_2018_01_28.tar.gz\n",
            "Resolving download.tensorflow.org (download.tensorflow.org)... 172.253.122.128, 2607:f8b0:4004:c09::80\n",
            "Connecting to download.tensorflow.org (download.tensorflow.org)|172.253.122.128|:80... connected.\n",
            "HTTP request sent, awaiting response... 200 OK\n",
            "Length: 177817887 (170M) [application/x-tar]\n",
            "Saving to: ‘mask_rcnn_inception_v2_coco_2018_01_28.tar.gz’\n",
            "\n",
            "mask_rcnn_inception 100%[===================>] 169.58M  94.5MB/s    in 1.8s    \n",
            "\n",
            "2023-06-11 10:43:40 (94.5 MB/s) - ‘mask_rcnn_inception_v2_coco_2018_01_28.tar.gz’ saved [177817887/177817887]\n",
            "\n"
          ]
        }
      ],
      "source": [
        "!wget http://download.tensorflow.org/models/object_detection/mask_rcnn_inception_v2_coco_2018_01_28.tar.gz"
      ]
    },
    {
      "cell_type": "code",
      "execution_count": null,
      "metadata": {
        "colab": {
          "base_uri": "https://localhost:8080/"
        },
        "id": "dmP5LVvVUhyf",
        "outputId": "94c8ec36-bd49-4415-f676-ee3775723433"
      },
      "outputs": [
        {
          "name": "stdout",
          "output_type": "stream",
          "text": [
            "/content/detection-video/models/mask_rcnn\n"
          ]
        }
      ],
      "source": [
        "%cd /content/detection-video/models/mask_rcnn"
      ]
    },
    {
      "cell_type": "code",
      "execution_count": null,
      "metadata": {
        "id": "OpE9lkeFTKZc"
      },
      "outputs": [],
      "source": [
        "!tar -xf mask_rcnn_inception_v2_coco_2018_01_28.tar.gz"
      ]
    },
    {
      "cell_type": "code",
      "execution_count": null,
      "metadata": {
        "colab": {
          "base_uri": "https://localhost:8080/"
        },
        "id": "39CXCewxUmjS",
        "outputId": "64950c0b-3db2-4d43-9a7f-b17ca10d703b"
      },
      "outputs": [
        {
          "name": "stdout",
          "output_type": "stream",
          "text": [
            "mask_rcnn_inception_v2_coco_2018_01_28\n",
            "mask_rcnn_inception_v2_coco_2018_01_28.tar.gz\n"
          ]
        }
      ],
      "source": [
        "!ls"
      ]
    },
    {
      "cell_type": "code",
      "execution_count": null,
      "metadata": {
        "colab": {
          "base_uri": "https://localhost:8080/"
        },
        "id": "b18rM6p5XFjK",
        "outputId": "e869b54f-7db3-484b-f160-213665987ec3"
      },
      "outputs": [
        {
          "name": "stdout",
          "output_type": "stream",
          "text": [
            "/content/detection-video/models/mask_rcnn/mask_rcnn_inception_v2_coco_2018_01_28\n",
            "--2023-06-11 10:43:43--  http://download.tensorflow.org/models/object_detection/mask_rcnn_inception_v2_coco_2018_01_28.tar.gz\n",
            "Resolving download.tensorflow.org (download.tensorflow.org)... 172.253.122.128, 2607:f8b0:4004:c09::80\n",
            "Connecting to download.tensorflow.org (download.tensorflow.org)|172.253.122.128|:80... connected.\n",
            "HTTP request sent, awaiting response... 200 OK\n",
            "Length: 177817887 (170M) [application/x-tar]\n",
            "Saving to: ‘mask_rcnn_inception_v2_coco_2018_01_28.tar.gz’\n",
            "\n",
            "mask_rcnn_inception 100%[===================>] 169.58M   211MB/s    in 0.8s    \n",
            "\n",
            "2023-06-11 10:43:44 (211 MB/s) - ‘mask_rcnn_inception_v2_coco_2018_01_28.tar.gz’ saved [177817887/177817887]\n",
            "\n"
          ]
        }
      ],
      "source": [
        "%cd /content/detection-video/models/mask_rcnn/mask_rcnn_inception_v2_coco_2018_01_28\n",
        "!wget http://download.tensorflow.org/models/object_detection/mask_rcnn_inception_v2_coco_2018_01_28.tar.gz"
      ]
    },
    {
      "cell_type": "markdown",
      "metadata": {
        "id": "TQWwDYWXVhDh"
      },
      "source": [
        "## Extract mask_rcnn"
      ]
    },
    {
      "cell_type": "code",
      "execution_count": null,
      "metadata": {
        "colab": {
          "base_uri": "https://localhost:8080/"
        },
        "id": "EPXe7plATVO6",
        "outputId": "8a34221b-229c-47e7-8cac-6b9c3e1c5124"
      },
      "outputs": [
        {
          "name": "stdout",
          "output_type": "stream",
          "text": [
            "/content/detection-video\n",
            "2023-06-10 08:08:01.115228: I tensorflow/core/platform/cpu_feature_guard.cc:182] This TensorFlow binary is optimized to use available CPU instructions in performance-critical operations.\n",
            "To enable the following instructions: AVX2 FMA, in other operations, rebuild TensorFlow with the appropriate compiler flags.\n",
            "2023-06-10 08:08:02.366278: W tensorflow/compiler/tf2tensorrt/utils/py_utils.cc:38] TF-TRT Warning: Could not find TensorRT\n",
            "\n",
            "\n",
            "\n",
            "\n",
            "\n",
            "Starting the algorithm with the following parameters: \n",
            "     np=<module 'numpy' from '/usr/local/lib/python3.10/dist-packages/numpy/__init__.py'>\n",
            "     tf=<module 'tensorflow' from '/usr/local/lib/python3.10/dist-packages/tensorflow/__init__.py'>\n",
            "     os=<module 'os' from '/usr/lib/python3.10/os.py'>\n",
            "     ProcessingType=<enum 'ProcessingType'>\n",
            "     log_message=<function log_message at 0x7fcec732f7f0>\n",
            "     check_file_existence=<function check_file_existence at 0x7fcec732fac0>\n",
            "     pdb=<module 'pdb' from '/usr/lib/python3.10/pdb.py'>\n",
            "     sys=<module 'sys' (built-in)>\n",
            "     create_dir=<function create_dir at 0x7fcec732fa30>\n",
            "     operating_system=linux\n",
            "     tf_config=device_count {\n",
            "  key: \"GPU\"\n",
            "  value: 1\n",
            "}\n",
            "gpu_options {\n",
            "  per_process_gpu_memory_fraction: 0.2\n",
            "}\n",
            "\n",
            "     temporal_stride=5\n",
            "     temporal_size=5\n",
            "     temporal_offsets=[-5  0  5]\n",
            "     detection_threshold=0.8\n",
            "     lambda_=1.0\n",
            "     database_name=ShanghaiTech\n",
            "     output_folder_base=/content/detection-video/output_yolo_0.80\n",
            "     input_folder_base=/content/detection-video\n",
            "     adversarial_images_path=/home/lili/datasets/adversarial_images\n",
            "     samples_folder_name=images_5_5_0.80\n",
            "     meta_folder_name=meta_5_5_0.80\n",
            "     object_detector_num_classes=90\n",
            "     block_scale=20\n",
            "     logs_folder=logs\n",
            "     num_samples_for_visualization=500\n",
            "     CHECKPOINTS_PREFIX=adv_excluded_classes_unet_1.000000\n",
            "     excluded_training_classes=[2, 3, 4, 6, 8]\n",
            "     CHECKPOINTS_BASE=/content/detection-video/output_yolo_0.80/ShanghaiTech/checkpoints/adv_excluded_classes_unet_1.000000\n",
            "     allowed_video_extensions=['avi', 'mp4']\n",
            "     allowed_image_extensions=['jpg', 'png', 'jpeg']\n",
            "     RESTORE_FROM_HISTORY=True\n",
            "     history_filename=history_ShanghaiTech_%s.txt\n",
            "     log_parameters=<function log_parameters at 0x7fcec732ff40>\n",
            "\n",
            "Reading 330 video names from /content/detection-video/train/videos.\n",
            "There are 330 video in /content/detection-video/train/videos after reading the history file.\n",
            "Processing video 01_001.avi, 0/330..\n",
            "Traceback (most recent call last):\n",
            "  File \"/content/detection-video/mask_extraction.py\", line 111, in <module>\n",
            "    extract_masks(utils.ProcessingType.TRAIN, is_video=True)\n",
            "  File \"/content/detection-video/mask_extraction.py\", line 94, in extract_masks\n",
            "    detections = obj_detector.get_detections(frame_to_process)\n",
            "  File \"/content/detection-video/obj_det/mask_rcnn.py\", line 101, in get_detections\n",
            "    __run_detection_network([processed_image])\n",
            "  File \"/content/detection-video/obj_det/mask_rcnn.py\", line 38, in __run_detection_network\n",
            "    [self.session.graph.get_tensor_by_name(self.graph_name + '/detection_boxes:0'),\n",
            "  File \"/usr/local/lib/python3.10/dist-packages/tensorflow/python/framework/ops.py\", line 4188, in get_tensor_by_name\n",
            "    return self.as_graph_element(name, allow_tensor=True, allow_operation=False)\n",
            "  File \"/usr/local/lib/python3.10/dist-packages/tensorflow/python/framework/ops.py\", line 4012, in as_graph_element\n",
            "    return self._as_graph_element_locked(obj, allow_tensor, allow_operation)\n",
            "  File \"/usr/local/lib/python3.10/dist-packages/tensorflow/python/framework/ops.py\", line 4052, in _as_graph_element_locked\n",
            "    raise KeyError(\"The name %s refers to a Tensor which does not \"\n",
            "KeyError: \"The name 'mask_rcnn/detection_boxes:0' refers to a Tensor which does not exist. The operation, 'mask_rcnn/detection_boxes', does not exist in the graph.\"\n"
          ]
        }
      ],
      "source": [
        "%cd /content/detection-video\n",
        "!python mask_extraction.py"
      ]
    },
    {
      "cell_type": "code",
      "execution_count": null,
      "metadata": {
        "id": "pZl5tA_bUPOw"
      },
      "outputs": [],
      "source": [
        "/content/detection-video/models/mask_rcnn\n",
        "/content/detection-video/models/mask_rcnn"
      ]
    },
    {
      "cell_type": "markdown",
      "metadata": {
        "id": "uibwzIl-DimH"
      },
      "source": [
        "## Tải Endpoint YoLov3\n"
      ]
    },
    {
      "cell_type": "code",
      "source": [
        "%cd /content/"
      ],
      "metadata": {
        "id": "NuVg_-Hl1zqX",
        "outputId": "c808e241-dab2-4cd9-fdc7-a09327a4289d",
        "colab": {
          "base_uri": "https://localhost:8080/"
        }
      },
      "execution_count": 23,
      "outputs": [
        {
          "output_type": "stream",
          "name": "stdout",
          "text": [
            "/content\n"
          ]
        }
      ]
    },
    {
      "cell_type": "code",
      "source": [
        "!git clone https://github.com/tringuyenwap/YoloV3_Model.git"
      ],
      "metadata": {
        "id": "QVRuZXiL1n03",
        "outputId": "3261abf9-d32e-4fad-b279-ab7ba77c5cfd",
        "colab": {
          "base_uri": "https://localhost:8080/"
        }
      },
      "execution_count": 24,
      "outputs": [
        {
          "output_type": "stream",
          "name": "stdout",
          "text": [
            "Cloning into 'YoloV3_Model'...\n",
            "remote: Enumerating objects: 61, done.\u001b[K\n",
            "remote: Counting objects: 100% (61/61), done.\u001b[K\n",
            "remote: Compressing objects: 100% (45/45), done.\u001b[K\n",
            "remote: Total 61 (delta 10), reused 57 (delta 9), pack-reused 0\u001b[K\n",
            "Unpacking objects: 100% (61/61), 3.07 MiB | 5.47 MiB/s, done.\n"
          ]
        }
      ]
    },
    {
      "cell_type": "code",
      "source": [
        "%cd /content/YoloV3_Model/data/darknet_weights\n"
      ],
      "metadata": {
        "id": "enqTOoTB17tX",
        "outputId": "1b1056ce-2100-45f4-f99d-d88e377957e4",
        "colab": {
          "base_uri": "https://localhost:8080/"
        }
      },
      "execution_count": 25,
      "outputs": [
        {
          "output_type": "stream",
          "name": "stdout",
          "text": [
            "/content/YoloV3_Model/data/darknet_weights\n"
          ]
        }
      ]
    },
    {
      "cell_type": "code",
      "source": [
        "!wget https://pjreddie.com/media/files/yolov3.weights"
      ],
      "metadata": {
        "id": "G6BtReRI2GOf",
        "outputId": "686f5cdc-5ba2-4b0a-f703-bdf7eed45de0",
        "colab": {
          "base_uri": "https://localhost:8080/"
        }
      },
      "execution_count": 26,
      "outputs": [
        {
          "output_type": "stream",
          "name": "stdout",
          "text": [
            "--2023-06-12 13:43:03--  https://pjreddie.com/media/files/yolov3.weights\n",
            "Resolving pjreddie.com (pjreddie.com)... 128.208.4.108\n",
            "Connecting to pjreddie.com (pjreddie.com)|128.208.4.108|:443... connected.\n",
            "HTTP request sent, awaiting response... 200 OK\n",
            "Length: 248007048 (237M) [application/octet-stream]\n",
            "Saving to: ‘yolov3.weights’\n",
            "\n",
            "yolov3.weights      100%[===================>] 236.52M  83.5MB/s    in 2.8s    \n",
            "\n",
            "2023-06-12 13:43:07 (83.5 MB/s) - ‘yolov3.weights’ saved [248007048/248007048]\n",
            "\n"
          ]
        }
      ]
    },
    {
      "cell_type": "code",
      "source": [
        "!python /content/YoloV3_Model/convert_weight.py"
      ],
      "metadata": {
        "id": "e8KvMlGI2KB2",
        "outputId": "963fe41a-51de-457d-a4c5-f496534bce41",
        "colab": {
          "base_uri": "https://localhost:8080/"
        }
      },
      "execution_count": 28,
      "outputs": [
        {
          "output_type": "stream",
          "name": "stdout",
          "text": [
            "2023-06-12 13:45:34.721175: I tensorflow/core/platform/cpu_feature_guard.cc:182] This TensorFlow binary is optimized to use available CPU instructions in performance-critical operations.\n",
            "To enable the following instructions: AVX2 FMA, in other operations, rebuild TensorFlow with the appropriate compiler flags.\n",
            "2023-06-12 13:45:36.215255: W tensorflow/compiler/tf2tensorrt/utils/py_utils.cc:38] TF-TRT Warning: Could not find TensorRT\n",
            "/usr/local/lib/python3.10/dist-packages/tensorflow/python/keras/engine/base_layer_v1.py:1694: UserWarning: `layer.apply` is deprecated and will be removed in a future version. Please use `layer.__call__` method instead.\n",
            "  warnings.warn('`layer.apply` is deprecated and '\n",
            "2023-06-12 13:45:47.893929: I tensorflow/compiler/mlir/mlir_graph_optimization_pass.cc:353] MLIR V1 optimization pass is not enabled\n",
            "TensorFlow model checkpoint has been saved to /content/detection-video/models/yolov3/yolov3.ckpt\n"
          ]
        }
      ]
    },
    {
      "cell_type": "markdown",
      "metadata": {
        "id": "EKBl-P2lGsHt"
      },
      "source": [
        "## Run object_extraction"
      ]
    },
    {
      "cell_type": "code",
      "execution_count": 29,
      "metadata": {
        "colab": {
          "base_uri": "https://localhost:8080/"
        },
        "id": "qdcINWEGG65E",
        "outputId": "97e4794b-9f42-4075-bd34-6ff94603ccc6"
      },
      "outputs": [
        {
          "output_type": "stream",
          "name": "stdout",
          "text": [
            "2023-06-12 13:46:25.522739: I tensorflow/core/platform/cpu_feature_guard.cc:182] This TensorFlow binary is optimized to use available CPU instructions in performance-critical operations.\n",
            "To enable the following instructions: AVX2 FMA, in other operations, rebuild TensorFlow with the appropriate compiler flags.\n",
            "2023-06-12 13:46:26.610850: W tensorflow/compiler/tf2tensorrt/utils/py_utils.cc:38] TF-TRT Warning: Could not find TensorRT\n",
            "\n",
            "\n",
            "\n",
            "\n",
            "\n",
            "Starting the algorithm with the following parameters: \n",
            "     np=<module 'numpy' from '/usr/local/lib/python3.10/dist-packages/numpy/__init__.py'>\n",
            "     tf=<module 'tensorflow' from '/usr/local/lib/python3.10/dist-packages/tensorflow/__init__.py'>\n",
            "     os=<module 'os' from '/usr/lib/python3.10/os.py'>\n",
            "     ProcessingType=<enum 'ProcessingType'>\n",
            "     log_message=<function log_message at 0x7f17fa34f880>\n",
            "     check_file_existence=<function check_file_existence at 0x7f17fa34fb50>\n",
            "     pdb=<module 'pdb' from '/usr/lib/python3.10/pdb.py'>\n",
            "     sys=<module 'sys' (built-in)>\n",
            "     create_dir=<function create_dir at 0x7f17fa34fac0>\n",
            "     operating_system=linux\n",
            "     tf_config=device_count {\n",
            "  key: \"GPU\"\n",
            "  value: 1\n",
            "}\n",
            "gpu_options {\n",
            "  per_process_gpu_memory_fraction: 0.2\n",
            "}\n",
            "\n",
            "     temporal_stride=5\n",
            "     temporal_size=5\n",
            "     temporal_offsets=[-5  0  5]\n",
            "     detection_threshold=0.8\n",
            "     lambda_=1.0\n",
            "     database_name=ShanghaiTech\n",
            "     output_folder_base=/content/detection-video/output_yolo_0.80\n",
            "     input_folder_base=/content/detection-video\n",
            "     adversarial_images_path=/home/lili/datasets/adversarial_images\n",
            "     samples_folder_name=images_5_5_0.80\n",
            "     meta_folder_name=meta_5_5_0.80\n",
            "     object_detector_num_classes=90\n",
            "     block_scale=20\n",
            "     logs_folder=logs\n",
            "     num_samples_for_visualization=500\n",
            "     CHECKPOINTS_PREFIX=adv_excluded_classes_unet_1.000000\n",
            "     excluded_training_classes=[2, 3, 4, 6, 8]\n",
            "     CHECKPOINTS_BASE=/content/detection-video/output_yolo_0.80/ShanghaiTech/checkpoints/adv_excluded_classes_unet_1.000000\n",
            "     allowed_video_extensions=['avi', 'mp4']\n",
            "     allowed_image_extensions=['jpg', 'png', 'jpeg']\n",
            "     RESTORE_FROM_HISTORY=True\n",
            "     history_filename=history_ShanghaiTech_%s.txt\n",
            "     log_parameters=<function log_parameters at 0x7f17ef244040>\n",
            "\n",
            "Reading 330 video names from /content/detection-video/train/videos.\n",
            "There are 330 video in /content/detection-video/train/videos after reading the history file.\n",
            "/usr/local/lib/python3.10/dist-packages/tensorflow/python/keras/engine/base_layer_v1.py:1694: UserWarning: `layer.apply` is deprecated and will be removed in a future version. Please use `layer.__call__` method instead.\n",
            "  warnings.warn('`layer.apply` is deprecated and '\n",
            "Traceback (most recent call last):\n",
            "  File \"/content/detection-video/object_extraction.py\", line 120, in <module>\n",
            "    extract_objects(ProcessingType.TRAIN, is_video=True)\n",
            "  File \"/content/detection-video/object_extraction.py\", line 55, in extract_objects\n",
            "    obj_detector = YoloV3(args.detection_threshold, config=args.tf_config)\n",
            "  File \"/content/detection-video/obj_det/yolo_v3.py\", line 31, in __init__\n",
            "    self.obj_detection_sess = self.create_session(object_detector_nn_path, config)\n",
            "  File \"/content/detection-video/obj_det/yolo_v3.py\", line 192, in create_session\n",
            "    saver = tf.compat.v1.train.import_meta_graph(graph_path)\n",
            "  File \"/usr/local/lib/python3.10/dist-packages/tensorflow/python/training/saver.py\", line 1583, in import_meta_graph\n",
            "    return _import_meta_graph_with_return_elements(meta_graph_or_file,\n",
            "  File \"/usr/local/lib/python3.10/dist-packages/tensorflow/python/training/saver.py\", line 1599, in _import_meta_graph_with_return_elements\n",
            "    meta_graph_def = meta_graph.read_meta_graph_file(meta_graph_or_file)\n",
            "  File \"/usr/local/lib/python3.10/dist-packages/tensorflow/python/framework/meta_graph.py\", line 633, in read_meta_graph_file\n",
            "    raise IOError(f\"File does not exist. Received: {filename}.\")\n",
            "OSError: File does not exist. Received: /content/detection-video/models/yolov3/yolov3.ckpt.\n"
          ]
        }
      ],
      "source": [
        "!python /content/detection-video/object_extraction.py"
      ]
    }
  ],
  "metadata": {
    "colab": {
      "collapsed_sections": [
        "ydk716C1VajX",
        "aFI6g1rQVQ-w",
        "ER3T04rTVU8f",
        "TQWwDYWXVhDh"
      ],
      "provenance": []
    },
    "kernelspec": {
      "display_name": "Python 3",
      "name": "python3"
    },
    "language_info": {
      "name": "python"
    }
  },
  "nbformat": 4,
  "nbformat_minor": 0
}